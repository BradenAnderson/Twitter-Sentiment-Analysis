{
  "nbformat": 4,
  "nbformat_minor": 0,
  "metadata": {
    "colab": {
      "name": "00_Emoji_Data_Cleaning.ipynb",
      "provenance": [],
      "collapsed_sections": [],
      "authorship_tag": "ABX9TyNqZXHrLGBLAbZLQPaDaJMV",
      "include_colab_link": true
    },
    "kernelspec": {
      "name": "python3",
      "display_name": "Python 3"
    },
    "language_info": {
      "name": "python"
    }
  },
  "cells": [
    {
      "cell_type": "markdown",
      "metadata": {
        "id": "view-in-github",
        "colab_type": "text"
      },
      "source": [
        "<a href=\"https://colab.research.google.com/github/BradenAnderson/Twitter-Sentiment-Analysis/blob/main/00_Emoji_Data_Cleaning.ipynb\" target=\"_parent\"><img src=\"https://colab.research.google.com/assets/colab-badge.svg\" alt=\"Open In Colab\"/></a>"
      ]
    },
    {
      "cell_type": "code",
      "metadata": {
        "colab": {
          "base_uri": "https://localhost:8080/"
        },
        "id": "euwsAKk6Uum3",
        "outputId": "139c49bc-6fa6-457e-c3e4-0f8c672a603a"
      },
      "source": [
        "from google.colab import drive\n",
        "drive.mount('/content/drive')"
      ],
      "execution_count": null,
      "outputs": [
        {
          "output_type": "stream",
          "text": [
            "Drive already mounted at /content/drive; to attempt to forcibly remount, call drive.mount(\"/content/drive\", force_remount=True).\n"
          ],
          "name": "stdout"
        }
      ]
    },
    {
      "cell_type": "code",
      "metadata": {
        "id": "FjG3eDpIU2iG"
      },
      "source": [
        "import pandas as pd\n",
        "import numpy as np"
      ],
      "execution_count": null,
      "outputs": []
    },
    {
      "cell_type": "code",
      "metadata": {
        "id": "V8fJICieU3s1"
      },
      "source": [
        "pd.set_option('display.max_rows', 1000)"
      ],
      "execution_count": null,
      "outputs": []
    },
    {
      "cell_type": "code",
      "metadata": {
        "colab": {
          "base_uri": "https://localhost:8080/",
          "height": 386
        },
        "id": "kRrNWVl1U6Zv",
        "outputId": "6df7c22e-1e15-458c-c4be-9a1342b748a3"
      },
      "source": [
        "# Read in the dirty twitter data, store in a dataframe and display the first several rows. \n",
        "\n",
        "filename = \"/content/drive/MyDrive/Programming/Colab Notebooks/Coding_Dojo/Twitter_Sentiment_Project/train_test_data/train_twitter_sentiment.csv\"\n",
        "\n",
        "tweet_df = pd.read_csv(filename, index_col=0)\n",
        "\n",
        "emoji_file = '/content/drive/MyDrive/Programming/Colab Notebooks/Coding_Dojo/Twitter_Sentiment_Project/support_data/emoji_partial.csv'\n",
        "\n",
        "emoji_df = pd.read_csv(emoji_file)\n",
        "\n",
        "tweet_df.head(10)"
      ],
      "execution_count": null,
      "outputs": [
        {
          "output_type": "execute_result",
          "data": {
            "text/html": [
              "<div>\n",
              "<style scoped>\n",
              "    .dataframe tbody tr th:only-of-type {\n",
              "        vertical-align: middle;\n",
              "    }\n",
              "\n",
              "    .dataframe tbody tr th {\n",
              "        vertical-align: top;\n",
              "    }\n",
              "\n",
              "    .dataframe thead th {\n",
              "        text-align: right;\n",
              "    }\n",
              "</style>\n",
              "<table border=\"1\" class=\"dataframe\">\n",
              "  <thead>\n",
              "    <tr style=\"text-align: right;\">\n",
              "      <th></th>\n",
              "      <th>label</th>\n",
              "      <th>tweet</th>\n",
              "    </tr>\n",
              "    <tr>\n",
              "      <th>id</th>\n",
              "      <th></th>\n",
              "      <th></th>\n",
              "    </tr>\n",
              "  </thead>\n",
              "  <tbody>\n",
              "    <tr>\n",
              "      <th>1</th>\n",
              "      <td>0</td>\n",
              "      <td>@user when a father is dysfunctional and is s...</td>\n",
              "    </tr>\n",
              "    <tr>\n",
              "      <th>2</th>\n",
              "      <td>0</td>\n",
              "      <td>@user @user thanks for #lyft credit i can't us...</td>\n",
              "    </tr>\n",
              "    <tr>\n",
              "      <th>3</th>\n",
              "      <td>0</td>\n",
              "      <td>bihday your majesty</td>\n",
              "    </tr>\n",
              "    <tr>\n",
              "      <th>4</th>\n",
              "      <td>0</td>\n",
              "      <td>#model   i love u take with u all the time in ...</td>\n",
              "    </tr>\n",
              "    <tr>\n",
              "      <th>5</th>\n",
              "      <td>0</td>\n",
              "      <td>factsguide: society now    #motivation</td>\n",
              "    </tr>\n",
              "    <tr>\n",
              "      <th>6</th>\n",
              "      <td>0</td>\n",
              "      <td>[2/2] huge fan fare and big talking before the...</td>\n",
              "    </tr>\n",
              "    <tr>\n",
              "      <th>7</th>\n",
              "      <td>0</td>\n",
              "      <td>@user camping tomorrow @user @user @user @use...</td>\n",
              "    </tr>\n",
              "    <tr>\n",
              "      <th>8</th>\n",
              "      <td>0</td>\n",
              "      <td>the next school year is the year for exams.ð...</td>\n",
              "    </tr>\n",
              "    <tr>\n",
              "      <th>9</th>\n",
              "      <td>0</td>\n",
              "      <td>we won!!! love the land!!! #allin #cavs #champ...</td>\n",
              "    </tr>\n",
              "    <tr>\n",
              "      <th>10</th>\n",
              "      <td>0</td>\n",
              "      <td>@user @user welcome here !  i'm   it's so #gr...</td>\n",
              "    </tr>\n",
              "  </tbody>\n",
              "</table>\n",
              "</div>"
            ],
            "text/plain": [
              "    label                                              tweet\n",
              "id                                                          \n",
              "1       0   @user when a father is dysfunctional and is s...\n",
              "2       0  @user @user thanks for #lyft credit i can't us...\n",
              "3       0                                bihday your majesty\n",
              "4       0  #model   i love u take with u all the time in ...\n",
              "5       0             factsguide: society now    #motivation\n",
              "6       0  [2/2] huge fan fare and big talking before the...\n",
              "7       0   @user camping tomorrow @user @user @user @use...\n",
              "8       0  the next school year is the year for exams.ð...\n",
              "9       0  we won!!! love the land!!! #allin #cavs #champ...\n",
              "10      0   @user @user welcome here !  i'm   it's so #gr..."
            ]
          },
          "metadata": {
            "tags": []
          },
          "execution_count": 4
        }
      ]
    },
    {
      "cell_type": "code",
      "metadata": {
        "colab": {
          "base_uri": "https://localhost:8080/",
          "height": 202
        },
        "id": "ngWh_Pu3VtfK",
        "outputId": "297d1f6b-9943-4e59-db4a-2a8bde85e7ab"
      },
      "source": [
        "emoji_df.head()"
      ],
      "execution_count": null,
      "outputs": [
        {
          "output_type": "execute_result",
          "data": {
            "text/html": [
              "<div>\n",
              "<style scoped>\n",
              "    .dataframe tbody tr th:only-of-type {\n",
              "        vertical-align: middle;\n",
              "    }\n",
              "\n",
              "    .dataframe tbody tr th {\n",
              "        vertical-align: top;\n",
              "    }\n",
              "\n",
              "    .dataframe thead th {\n",
              "        text-align: right;\n",
              "    }\n",
              "</style>\n",
              "<table border=\"1\" class=\"dataframe\">\n",
              "  <thead>\n",
              "    <tr style=\"text-align: right;\">\n",
              "      <th></th>\n",
              "      <th>Codepoint</th>\n",
              "      <th>Emoji</th>\n",
              "      <th>Emoji_Description</th>\n",
              "      <th>Sentiment</th>\n",
              "    </tr>\n",
              "  </thead>\n",
              "  <tbody>\n",
              "    <tr>\n",
              "      <th>0</th>\n",
              "      <td>U+1F600</td>\n",
              "      <td>😀</td>\n",
              "      <td>Grinning Face</td>\n",
              "      <td>happy</td>\n",
              "    </tr>\n",
              "    <tr>\n",
              "      <th>1</th>\n",
              "      <td>U+1F603</td>\n",
              "      <td>😃</td>\n",
              "      <td>Grinning Face with Big Eyes</td>\n",
              "      <td>happy joy</td>\n",
              "    </tr>\n",
              "    <tr>\n",
              "      <th>2</th>\n",
              "      <td>U+1F604</td>\n",
              "      <td>😄</td>\n",
              "      <td>Grinning Face with Smiling Eyes</td>\n",
              "      <td>happy joy</td>\n",
              "    </tr>\n",
              "    <tr>\n",
              "      <th>3</th>\n",
              "      <td>U+1F601</td>\n",
              "      <td>😁</td>\n",
              "      <td>Beaming Face with Smiling Eyes</td>\n",
              "      <td>happy joy</td>\n",
              "    </tr>\n",
              "    <tr>\n",
              "      <th>4</th>\n",
              "      <td>U+1F606</td>\n",
              "      <td>😆</td>\n",
              "      <td>Grinning Squinting Face</td>\n",
              "      <td>happy embarassed</td>\n",
              "    </tr>\n",
              "  </tbody>\n",
              "</table>\n",
              "</div>"
            ],
            "text/plain": [
              "  Codepoint Emoji                 Emoji_Description         Sentiment\n",
              "0   U+1F600    😀                      Grinning Face             happy\n",
              "1   U+1F603    😃        Grinning Face with Big Eyes         happy joy\n",
              "2   U+1F604    😄    Grinning Face with Smiling Eyes         happy joy\n",
              "3   U+1F601    😁     Beaming Face with Smiling Eyes         happy joy\n",
              "4   U+1F606    😆            Grinning Squinting Face  happy embarassed"
            ]
          },
          "metadata": {
            "tags": []
          },
          "execution_count": 5
        }
      ]
    },
    {
      "cell_type": "markdown",
      "metadata": {
        "id": "GHuyaRBTVynS"
      },
      "source": [
        "# Replacing emojis with their sentiments\n",
        "\n",
        "Emojis are replaced with text that describes the sentiment of the emoji if possible. If the sentiment for that particular emoji is unknown, the emoji is replaced with an empty string."
      ]
    },
    {
      "cell_type": "code",
      "metadata": {
        "id": "IHBBNpqfWFbQ"
      },
      "source": [
        "# -------------------------------------------------------------------------------------------------------------------\n",
        "# This global variable is used to generate a list of all emojis that I currently do not have a sentiment for.\n",
        "# If time allows I can go manually create sentiment strings for every emoji in this list.\n",
        "# -------------------------------------------------------------------------------------------------------------------\n",
        "global unknown_emoji_list\n",
        "unknown_emoji_list = []"
      ],
      "execution_count": null,
      "outputs": []
    },
    {
      "cell_type": "code",
      "metadata": {
        "id": "EbzvLp6nVvX1"
      },
      "source": [
        "# ----------------------------------------------------------------------------------------------------------------\n",
        "# Emoji codes are often found online written in the form \"U+XXXXX\". This function is used to take a list of \n",
        "# known emojis with this \"U+XXXXX\" code formatting, and reformat into the \"latin\" encoding, which is how\n",
        "# the emojis are displayed in the twitter dataset tweets.\n",
        "#\n",
        "# Process: \n",
        "# 1. Start with U+XXXXX\n",
        "# 2. Remove only the \"XXXXX\" portion\n",
        "# 3. Convert \"XXXXX\" to a 16 bit hex number\n",
        "# 4. Convert the 16 bit hex number to its unicode character representation.\n",
        "# 5. Encode the unicode character as 'utf-8' and decode as 'latin-1'. Now the emoji code will be encoded in\n",
        "#    the same representation found in the tweets dataset.\n",
        "# ----------------------------------------------------------------------------------------------------------------\n",
        "def codePointToLatinUnicode(code_point):\n",
        "\n",
        "  output_string = \"\"\n",
        "\n",
        "  for char in code_point: \n",
        "\n",
        "    if char != \"U\" and char != \"+\":\n",
        "\n",
        "      output_string = output_string + char\n",
        "\n",
        "  output = int(output_string, 16) # Covert the output string to 16 bit hex.\n",
        "\n",
        "  output = chr(output)            # Return the unicode character representation of the integer stored above.\n",
        "\n",
        "  output = output.encode('utf-8').decode('latin-1')\n",
        "\n",
        "  return output"
      ],
      "execution_count": null,
      "outputs": []
    },
    {
      "cell_type": "code",
      "metadata": {
        "colab": {
          "base_uri": "https://localhost:8080/",
          "height": 202
        },
        "id": "7gcoO30IawrA",
        "outputId": "ed74dc66-290e-4fe8-9604-e3dd04bfab93"
      },
      "source": [
        "# Use the function above to conver the emoji codes formatted as \"U+XXXXX\" to the latin format used in the twitter dataset.\n",
        "emoji_df['Latin_Unicode'] = emoji_df['Codepoint'].apply(codePointToLatinUnicode)\n",
        "\n",
        "emoji_df.head()"
      ],
      "execution_count": null,
      "outputs": [
        {
          "output_type": "execute_result",
          "data": {
            "text/html": [
              "<div>\n",
              "<style scoped>\n",
              "    .dataframe tbody tr th:only-of-type {\n",
              "        vertical-align: middle;\n",
              "    }\n",
              "\n",
              "    .dataframe tbody tr th {\n",
              "        vertical-align: top;\n",
              "    }\n",
              "\n",
              "    .dataframe thead th {\n",
              "        text-align: right;\n",
              "    }\n",
              "</style>\n",
              "<table border=\"1\" class=\"dataframe\">\n",
              "  <thead>\n",
              "    <tr style=\"text-align: right;\">\n",
              "      <th></th>\n",
              "      <th>Codepoint</th>\n",
              "      <th>Emoji</th>\n",
              "      <th>Emoji_Description</th>\n",
              "      <th>Sentiment</th>\n",
              "      <th>Latin_Unicode</th>\n",
              "    </tr>\n",
              "  </thead>\n",
              "  <tbody>\n",
              "    <tr>\n",
              "      <th>0</th>\n",
              "      <td>U+1F600</td>\n",
              "      <td>😀</td>\n",
              "      <td>Grinning Face</td>\n",
              "      <td>happy</td>\n",
              "      <td>ð</td>\n",
              "    </tr>\n",
              "    <tr>\n",
              "      <th>1</th>\n",
              "      <td>U+1F603</td>\n",
              "      <td>😃</td>\n",
              "      <td>Grinning Face with Big Eyes</td>\n",
              "      <td>happy joy</td>\n",
              "      <td>ð</td>\n",
              "    </tr>\n",
              "    <tr>\n",
              "      <th>2</th>\n",
              "      <td>U+1F604</td>\n",
              "      <td>😄</td>\n",
              "      <td>Grinning Face with Smiling Eyes</td>\n",
              "      <td>happy joy</td>\n",
              "      <td>ð</td>\n",
              "    </tr>\n",
              "    <tr>\n",
              "      <th>3</th>\n",
              "      <td>U+1F601</td>\n",
              "      <td>😁</td>\n",
              "      <td>Beaming Face with Smiling Eyes</td>\n",
              "      <td>happy joy</td>\n",
              "      <td>ð</td>\n",
              "    </tr>\n",
              "    <tr>\n",
              "      <th>4</th>\n",
              "      <td>U+1F606</td>\n",
              "      <td>😆</td>\n",
              "      <td>Grinning Squinting Face</td>\n",
              "      <td>happy embarassed</td>\n",
              "      <td>ð</td>\n",
              "    </tr>\n",
              "  </tbody>\n",
              "</table>\n",
              "</div>"
            ],
            "text/plain": [
              "  Codepoint Emoji  ...         Sentiment Latin_Unicode\n",
              "0   U+1F600    😀   ...             happy          ð\n",
              "1   U+1F603    😃   ...         happy joy          ð\n",
              "2   U+1F604    😄   ...         happy joy          ð\n",
              "3   U+1F601    😁   ...         happy joy          ð\n",
              "4   U+1F606    😆   ...  happy embarassed          ð\n",
              "\n",
              "[5 rows x 5 columns]"
            ]
          },
          "metadata": {
            "tags": []
          },
          "execution_count": 8
        }
      ]
    },
    {
      "cell_type": "code",
      "metadata": {
        "id": "D6db-kIJefAK"
      },
      "source": [
        "# ------------------------------------------------------------------------------------------------------------------------\n",
        "# This function takes the emoji codes formatted as \"U+XXXXX\" and returns a mapping of latin unicode emoji codes\n",
        "# to the associated emoji sentiment. \n",
        "# -------------------------------------------------------------------------------------------------------------------------\n",
        "def get_emoji_map(emoji_dataframe=emoji_df):\n",
        "\n",
        "  # List to hold emoji codes formatted the way we want.\n",
        "  latin_unicode_values = []\n",
        "\n",
        "  # Get emoji codes of the form U+XXXXX\n",
        "  code_point_values = list(emoji_dataframe.loc[: , 'Codepoint'].to_numpy())  \n",
        "  \n",
        "  # For every code, change its formatting and store the new format.\n",
        "  for code in code_point_values:\n",
        "    value = codePointToLatinUnicode(code)\n",
        "    latin_unicode_values.append(value)\n",
        "\n",
        "  # Get a list of the sentiment strings for each emoji.\n",
        "  emoji_sentiments = list(emoji_dataframe.loc[:, 'Sentiment'].to_numpy())\n",
        "\n",
        "  # Zip the codes and sentiments together so we can easily iterate over them and build the mapping.\n",
        "  code_to_sentiment = zip(latin_unicode_values, emoji_sentiments)\n",
        "  emoji_map = {}\n",
        "\n",
        "  # Building dictionary mapping of latin_unicode_values --> emoji sentiments\n",
        "  for index, mapping in enumerate(code_to_sentiment): \n",
        "    emoji_map[mapping[0]] = mapping[1]\n",
        "\n",
        "  return emoji_map"
      ],
      "execution_count": null,
      "outputs": []
    },
    {
      "cell_type": "code",
      "metadata": {
        "id": "MA8xVVBRhquP"
      },
      "source": [
        "# Call the function above save the emoji map. \n",
        "emoji_map = get_emoji_map()"
      ],
      "execution_count": null,
      "outputs": []
    },
    {
      "cell_type": "code",
      "metadata": {
        "id": "k6627OAHWVaA"
      },
      "source": [
        "#----------------------------------------------------------------------------------------------------------------\n",
        "# Uses the emoji_map dictionary to convert the emoji unicode representation to the desired sentiment.\n",
        "# Some extra logic is included for handling situations where an emoji is not in the emoji_map dictionary\n",
        "# or situations where multiple emojis are stuck together and therefore there codes run together as one.\n",
        "#----------------------------------------------------------------------------------------------------------------\n",
        "\n",
        "def getEmojiSentiment(emoji_code, emoji_map=emoji_map): \n",
        "\n",
        "  global unknown_emoji_list\n",
        "\n",
        "  sentiment = \"\"\n",
        "\n",
        "  if emoji_code in emoji_map.keys(): \n",
        "    sentiment = \" \" + emoji_map[emoji_code] + \" \"\n",
        "    return sentiment\n",
        "  \n",
        "  else: \n",
        "\n",
        "    code = \"\"\n",
        "\n",
        "    for char in emoji_code:\n",
        "\n",
        "      code = code + char\n",
        "\n",
        "      if code in emoji_map.keys():\n",
        "        sentiment = \" \" + sentiment + \" \" + emoji_map[code] + \" \"\n",
        "        code = \"\"\n",
        "\n",
        "    if sentiment == \"\":\n",
        "\n",
        "      unknown_emoji_list.append(emoji_code)\n",
        "\n",
        "    return sentiment"
      ],
      "execution_count": null,
      "outputs": []
    },
    {
      "cell_type": "code",
      "metadata": {
        "id": "NcNC4eOVWgEp"
      },
      "source": [
        "def convertEmojiToSentiment(input_tweet): \n",
        "\n",
        "  building_emoji_code = False\n",
        "  emoji_code = \"\"\n",
        "  output_tweet = \"\"\n",
        "\n",
        "  for char in input_tweet:  \n",
        "\n",
        "    if ord(char) > 127 and building_emoji_code == False:          # If this character is the first character in a new emoji.\n",
        "\n",
        "      building_emoji_code = True                                  # Indicate that we are now building an emoji code.\n",
        "      emoji_code = emoji_code + char                              # Store the first character in the emoji code.\n",
        "  \n",
        "    elif ord(char) > 127 and building_emoji_code == True:         # If this character is part of an emoji, and we are already in the middle of building an emoji code.\n",
        "\n",
        "      emoji_code = emoji_code + char                              # Continue building the emoji code, this will be used to get the emoji sentiment once the code is complete.\n",
        "\n",
        "    elif ord(char) < 127 and building_emoji_code == True:         # If we were just building an emoji code, but this character is not part of an emoji.\n",
        "\n",
        "      emoji_description = getEmojiSentiment(emoji_code)           # The emoji code is now complete, go get the sentiment for that emoji.\n",
        "\n",
        "      output_tweet = output_tweet + emoji_description             # Add the emojis sentiment to the output tweet.\n",
        "\n",
        "      emoji_code = \"\"                                             # Reset the emoji code and sentiment to prepare to store the next one.\n",
        "      emoji_description = \"\"\n",
        "\n",
        "      building_emoji_code = False                                 # Reset flag indicating we are no longer building an emoji. \n",
        "\n",
        "      output_tweet = output_tweet + char                          # This character was not part of an emoji, so pass it through to the output tweet.\n",
        "\n",
        "    elif ord(char) < 127 and building_emoji_code == False:        # If this character is not part of an emoji, and we have not been building one. \n",
        "\n",
        "      output_tweet = output_tweet + char                          # This character was not part of an emoji, so pass it through to the output tweet.\n",
        "\n",
        "  if len(emoji_code) != 0:                                        # This section handles a situation where an emoji code was the final character in a tweet.\n",
        "\n",
        "    emoji_description = getEmojiSentiment(emoji_code)             # Go get the sentiment for this emoji.\n",
        "\n",
        "    output_tweet = output_tweet + emoji_description               # Add the emojis sentiment to the output tweet.\n",
        "\n",
        "  return output_tweet"
      ],
      "execution_count": null,
      "outputs": []
    },
    {
      "cell_type": "code",
      "metadata": {
        "colab": {
          "base_uri": "https://localhost:8080/",
          "height": 233
        },
        "id": "Q9uPTKlhWtKv",
        "outputId": "92188625-7b4f-4658-8c3a-0b834cfb1875"
      },
      "source": [
        "# ----------------------------------------------------------------------------------------------------------------------------------------------------------------------------\n",
        "# Creates a new column in tweet_df where all emoji codes are removed. If a sentiment for that emojis exists in the emoji_map dictionary,\n",
        "# then the sentiment is added in place of the emoji. If no sentiment exists, the emoji is replaced with an empty string.\n",
        "# ----------------------------------------------------------------------------------------------------------------------------------------------------------------------------\n",
        "tweet_df['tweet_emoji_cleaned'] = tweet_df['tweet'].apply(convertEmojiToSentiment)\n",
        "\n",
        "tweet_df.to_csv(path_or_buf=\"/content/drive/MyDrive/Programming/Colab Notebooks/Coding_Dojo/Twitter_Sentiment_Project/intermediate_output_files/train_tweets_with_emojis_clean.csv\")\n",
        "\n",
        "tweet_df.head()"
      ],
      "execution_count": null,
      "outputs": [
        {
          "output_type": "execute_result",
          "data": {
            "text/html": [
              "<div>\n",
              "<style scoped>\n",
              "    .dataframe tbody tr th:only-of-type {\n",
              "        vertical-align: middle;\n",
              "    }\n",
              "\n",
              "    .dataframe tbody tr th {\n",
              "        vertical-align: top;\n",
              "    }\n",
              "\n",
              "    .dataframe thead th {\n",
              "        text-align: right;\n",
              "    }\n",
              "</style>\n",
              "<table border=\"1\" class=\"dataframe\">\n",
              "  <thead>\n",
              "    <tr style=\"text-align: right;\">\n",
              "      <th></th>\n",
              "      <th>label</th>\n",
              "      <th>tweet</th>\n",
              "      <th>tweet_emoji_cleaned</th>\n",
              "    </tr>\n",
              "    <tr>\n",
              "      <th>id</th>\n",
              "      <th></th>\n",
              "      <th></th>\n",
              "      <th></th>\n",
              "    </tr>\n",
              "  </thead>\n",
              "  <tbody>\n",
              "    <tr>\n",
              "      <th>1</th>\n",
              "      <td>0</td>\n",
              "      <td>@user when a father is dysfunctional and is s...</td>\n",
              "      <td>@user when a father is dysfunctional and is s...</td>\n",
              "    </tr>\n",
              "    <tr>\n",
              "      <th>2</th>\n",
              "      <td>0</td>\n",
              "      <td>@user @user thanks for #lyft credit i can't us...</td>\n",
              "      <td>@user @user thanks for #lyft credit i can't us...</td>\n",
              "    </tr>\n",
              "    <tr>\n",
              "      <th>3</th>\n",
              "      <td>0</td>\n",
              "      <td>bihday your majesty</td>\n",
              "      <td>bihday your majesty</td>\n",
              "    </tr>\n",
              "    <tr>\n",
              "      <th>4</th>\n",
              "      <td>0</td>\n",
              "      <td>#model   i love u take with u all the time in ...</td>\n",
              "      <td>#model   i love u take with u all the time in ...</td>\n",
              "    </tr>\n",
              "    <tr>\n",
              "      <th>5</th>\n",
              "      <td>0</td>\n",
              "      <td>factsguide: society now    #motivation</td>\n",
              "      <td>factsguide: society now    #motivation</td>\n",
              "    </tr>\n",
              "  </tbody>\n",
              "</table>\n",
              "</div>"
            ],
            "text/plain": [
              "    label  ...                                tweet_emoji_cleaned\n",
              "id         ...                                                   \n",
              "1       0  ...   @user when a father is dysfunctional and is s...\n",
              "2       0  ...  @user @user thanks for #lyft credit i can't us...\n",
              "3       0  ...                                bihday your majesty\n",
              "4       0  ...  #model   i love u take with u all the time in ...\n",
              "5       0  ...             factsguide: society now    #motivation\n",
              "\n",
              "[5 rows x 3 columns]"
            ]
          },
          "metadata": {
            "tags": []
          },
          "execution_count": 13
        }
      ]
    },
    {
      "cell_type": "code",
      "metadata": {
        "id": "eq6i4anVicA5"
      },
      "source": [
        "# Save the latin unicode to sentiment emoji map to a csv in case it is needed in a later file. \n",
        "map_df = pd.DataFrame(emoji_map, columns=['Unicode', 'Sentiment'])\n",
        "\n",
        "# map_df.to_csv(path_or_buf=\"/content/drive/MyDrive/Programming/Colab Notebooks/Coding_Dojo/Twitter_Sentiment_Project/support_data/latin_enicode_to_sentiment_map.csv\")"
      ],
      "execution_count": null,
      "outputs": []
    },
    {
      "cell_type": "code",
      "metadata": {
        "id": "85IJBGdcZN3Y"
      },
      "source": [
        "# ------------------------------------------------------------------------------------------------------------------------------------\n",
        "# This cell outputs the list of emojis we didn't have sentiments for to a csv. \n",
        "# ------------------------------------------------------------------------------------------------------------------------------------\n",
        "\n",
        "# Create a list of every unique emoji in the global list of unknown emojis.\n",
        "unknown_emojis = list(set(unknown_emoji_list))\n",
        "\n",
        "# Create a dictionary of all emoji codes that we currently do not have sentiments for.\n",
        "unlisted_emoji_dict = {'Code_From_Tweet' : [], 'Code_Converted' : []}\n",
        "\n",
        "for emoji in unknown_emojis:\n",
        "\n",
        "  unlisted_emoji_dict['Code_From_Tweet'].append(emoji)\n",
        "\n",
        "  try: \n",
        "\n",
        "    unlisted_emoji_dict['Code_Converted'].append(emoji.encode('latin-1').decode('utf-8'))\n",
        "\n",
        "  except UnicodeDecodeError:\n",
        "\n",
        "    unlisted_emoji_dict['Code_Converted'].append(\"\") # Append empty string if code \n",
        "\n",
        "emojis_no_sentiment_df = pd.DataFrame(unlisted_emoji_dict)\n",
        "\n",
        "emojis_no_sentiment_df.to_csv(path_or_buf=\"/content/drive/MyDrive/Programming/Colab Notebooks/Coding_Dojo/Twitter_Sentiment_Project/support_data/unknown_emoji.csv\")"
      ],
      "execution_count": null,
      "outputs": []
    },
    {
      "cell_type": "code",
      "metadata": {
        "colab": {
          "base_uri": "https://localhost:8080/",
          "height": 202
        },
        "id": "HLM9e7uOaa3B",
        "outputId": "184ef872-b83b-490a-e456-3a899696ee49"
      },
      "source": [
        "emojis_no_sentiment_df.head()"
      ],
      "execution_count": null,
      "outputs": [
        {
          "output_type": "execute_result",
          "data": {
            "text/html": [
              "<div>\n",
              "<style scoped>\n",
              "    .dataframe tbody tr th:only-of-type {\n",
              "        vertical-align: middle;\n",
              "    }\n",
              "\n",
              "    .dataframe tbody tr th {\n",
              "        vertical-align: top;\n",
              "    }\n",
              "\n",
              "    .dataframe thead th {\n",
              "        text-align: right;\n",
              "    }\n",
              "</style>\n",
              "<table border=\"1\" class=\"dataframe\">\n",
              "  <thead>\n",
              "    <tr style=\"text-align: right;\">\n",
              "      <th></th>\n",
              "      <th>Code_From_Tweet</th>\n",
              "      <th>Code_Converted</th>\n",
              "    </tr>\n",
              "  </thead>\n",
              "  <tbody>\n",
              "    <tr>\n",
              "      <th>0</th>\n",
              "      <td>ð</td>\n",
              "      <td>👗</td>\n",
              "    </tr>\n",
              "    <tr>\n",
              "      <th>1</th>\n",
              "      <td>â­â­â­â­â­</td>\n",
              "      <td>⭐⭐⭐⭐⭐</td>\n",
              "    </tr>\n",
              "    <tr>\n",
              "      <th>2</th>\n",
              "      <td>ð</td>\n",
              "      <td>🐒</td>\n",
              "    </tr>\n",
              "    <tr>\n",
              "      <th>3</th>\n",
              "      <td>â¼ï¸â¤ï¸</td>\n",
              "      <td>‼️❤️</td>\n",
              "    </tr>\n",
              "    <tr>\n",
              "      <th>4</th>\n",
              "      <td>ððâð»ï¸â¤ï¸</td>\n",
              "      <td>🌈😎✌🏻️❤️</td>\n",
              "    </tr>\n",
              "  </tbody>\n",
              "</table>\n",
              "</div>"
            ],
            "text/plain": [
              "            Code_From_Tweet Code_Converted\n",
              "0                      ð              👗\n",
              "1           â­â­â­â­â­          ⭐⭐⭐⭐⭐\n",
              "2                      ð              🐒\n",
              "3              â¼ï¸â¤ï¸           ‼️❤️\n",
              "4  ððâð»ï¸â¤ï¸        🌈😎✌🏻️❤️"
            ]
          },
          "metadata": {
            "tags": []
          },
          "execution_count": 16
        }
      ]
    }
  ]
}
{
  "nbformat": 4,
  "nbformat_minor": 0,
  "metadata": {
    "colab": {
      "name": "04_Multilayer_Perceptron.ipynb",
      "provenance": [],
      "collapsed_sections": [],
      "mount_file_id": "1AMyy_ykqlkdMDGnMAWb8Va0KTu97sbKB",
      "authorship_tag": "ABX9TyP1PHIUSqwe6LQIwFkSO/2I",
      "include_colab_link": true
    },
    "kernelspec": {
      "name": "python3",
      "display_name": "Python 3"
    },
    "language_info": {
      "name": "python"
    }
  },
  "cells": [
    {
      "cell_type": "markdown",
      "metadata": {
        "id": "view-in-github",
        "colab_type": "text"
      },
      "source": [
        "<a href=\"https://colab.research.google.com/github/BradenAnderson/Twitter-Sentiment-Analysis/blob/main/04_Multilayer_Perceptron.ipynb\" target=\"_parent\"><img src=\"https://colab.research.google.com/assets/colab-badge.svg\" alt=\"Open In Colab\"/></a>"
      ]
    },
    {
      "cell_type": "markdown",
      "metadata": {
        "id": "oGFNs0MckLCA"
      },
      "source": [
        "## This notebook contains the code to perform hyperparameter tuning on Multilayer Perceptron Models. \n",
        "\n",
        "## Displaying and reviewing the search results is done in the 04_Modeling_Analysis notebook."
      ]
    },
    {
      "cell_type": "code",
      "metadata": {
        "colab": {
          "base_uri": "https://localhost:8080/"
        },
        "id": "ad_IVrRGvIWX",
        "outputId": "0fe9189e-382e-4bc1-b30c-7f96bb20c73a"
      },
      "source": [
        "from google.colab import drive\n",
        "drive.mount('/content/drive')"
      ],
      "execution_count": null,
      "outputs": [
        {
          "output_type": "stream",
          "text": [
            "Drive already mounted at /content/drive; to attempt to forcibly remount, call drive.mount(\"/content/drive\", force_remount=True).\n"
          ],
          "name": "stdout"
        }
      ]
    },
    {
      "cell_type": "code",
      "metadata": {
        "id": "REesbUR8uslM"
      },
      "source": [
        "import pickle\n",
        "import pandas as pd\n",
        "import numpy as np\n",
        "import seaborn as sns\n",
        "import matplotlib.pyplot as plt\n",
        "\n",
        "from sklearn.model_selection import cross_val_score, GridSearchCV, RandomizedSearchCV, train_test_split, cross_validate, cross_val_predict\n",
        "from sklearn.pipeline import Pipeline\n",
        "from sklearn.feature_extraction.text import TfidfTransformer, TfidfVectorizer, CountVectorizer\n",
        "from sklearn.compose import ColumnTransformer\n",
        "from sklearn.neural_network import MLPClassifier\n",
        "\n",
        "from sklearn.metrics import precision_score, recall_score, accuracy_score, SCORERS, multilabel_confusion_matrix, make_scorer, roc_curve, roc_auc_score, f1_score"
      ],
      "execution_count": null,
      "outputs": []
    },
    {
      "cell_type": "code",
      "metadata": {
        "colab": {
          "base_uri": "https://localhost:8080/",
          "height": 202
        },
        "id": "4a9ubCp-xyt1",
        "outputId": "bc16cca8-88ec-44b5-8a4e-7cc3e56f15e2"
      },
      "source": [
        "filepath= \"/content/drive/MyDrive/Programming/Colab Notebooks/Coding_Dojo/Twitter_Sentiment_Project/intermediate_output_files/vader_full_preprocessing_model_droppedlt3.csv\"\n",
        "\n",
        "tweet_df = pd.read_csv(filepath)\n",
        "\n",
        "tweet_df.head()"
      ],
      "execution_count": null,
      "outputs": [
        {
          "output_type": "execute_result",
          "data": {
            "text/html": [
              "<div>\n",
              "<style scoped>\n",
              "    .dataframe tbody tr th:only-of-type {\n",
              "        vertical-align: middle;\n",
              "    }\n",
              "\n",
              "    .dataframe tbody tr th {\n",
              "        vertical-align: top;\n",
              "    }\n",
              "\n",
              "    .dataframe thead th {\n",
              "        text-align: right;\n",
              "    }\n",
              "</style>\n",
              "<table border=\"1\" class=\"dataframe\">\n",
              "  <thead>\n",
              "    <tr style=\"text-align: right;\">\n",
              "      <th></th>\n",
              "      <th>label</th>\n",
              "      <th>tweet</th>\n",
              "      <th>Clean_Tweet</th>\n",
              "      <th>Sentence_Level_pos_Score</th>\n",
              "      <th>Sentence_Level_neg_Score</th>\n",
              "      <th>Sentence_Level_neu_Score</th>\n",
              "      <th>Sentence_Level_compound_Score</th>\n",
              "    </tr>\n",
              "  </thead>\n",
              "  <tbody>\n",
              "    <tr>\n",
              "      <th>0</th>\n",
              "      <td>0</td>\n",
              "      <td>@user when a father is dysfunctional and is s...</td>\n",
              "      <td>father dysfunctional significant selfish pron ...</td>\n",
              "      <td>0.000</td>\n",
              "      <td>0.211</td>\n",
              "      <td>0.789</td>\n",
              "      <td>0.58520</td>\n",
              "    </tr>\n",
              "    <tr>\n",
              "      <th>1</th>\n",
              "      <td>0</td>\n",
              "      <td>@user @user thanks for #lyft credit i can't us...</td>\n",
              "      <td>thank #lyft credit use cause pron offer wheelc...</td>\n",
              "      <td>0.157</td>\n",
              "      <td>0.000</td>\n",
              "      <td>0.843</td>\n",
              "      <td>1.33525</td>\n",
              "    </tr>\n",
              "    <tr>\n",
              "      <th>2</th>\n",
              "      <td>0</td>\n",
              "      <td>bihday your majesty</td>\n",
              "      <td>bihday pron majesty</td>\n",
              "      <td>0.000</td>\n",
              "      <td>0.000</td>\n",
              "      <td>1.000</td>\n",
              "      <td>1.00000</td>\n",
              "    </tr>\n",
              "    <tr>\n",
              "      <th>3</th>\n",
              "      <td>0</td>\n",
              "      <td>#model   i love u take with u all the time in ...</td>\n",
              "      <td>#model love pron pron time pron happy love hap...</td>\n",
              "      <td>0.194</td>\n",
              "      <td>0.000</td>\n",
              "      <td>0.806</td>\n",
              "      <td>1.36245</td>\n",
              "    </tr>\n",
              "    <tr>\n",
              "      <th>4</th>\n",
              "      <td>0</td>\n",
              "      <td>factsguide: society now    #motivation</td>\n",
              "      <td>factsguide society #motivation</td>\n",
              "      <td>0.000</td>\n",
              "      <td>0.000</td>\n",
              "      <td>1.000</td>\n",
              "      <td>1.00000</td>\n",
              "    </tr>\n",
              "  </tbody>\n",
              "</table>\n",
              "</div>"
            ],
            "text/plain": [
              "   label  ... Sentence_Level_compound_Score\n",
              "0      0  ...                       0.58520\n",
              "1      0  ...                       1.33525\n",
              "2      0  ...                       1.00000\n",
              "3      0  ...                       1.36245\n",
              "4      0  ...                       1.00000\n",
              "\n",
              "[5 rows x 7 columns]"
            ]
          },
          "metadata": {
            "tags": []
          },
          "execution_count": 3
        }
      ]
    },
    {
      "cell_type": "code",
      "metadata": {
        "id": "_EdOpqTEvuvw"
      },
      "source": [
        "# Regex pattern to split the tweets into tokens.\n",
        "pattern=r'\\b\\w\\w+\\b|(?<!\\w)#\\w+'"
      ],
      "execution_count": null,
      "outputs": []
    },
    {
      "cell_type": "code",
      "metadata": {
        "id": "gGPJ3Mh-kvia"
      },
      "source": [
        "'''\n",
        "X = tweet_df.loc[:, ['Clean_Tweet']]\n",
        "y = tweet_df.loc[:, 'label'].to_numpy().ravel()\n",
        "\n",
        "preprocess = ColumnTransformer(transformers=[(\"Tfidf_Vect\", TfidfVectorizer(token_pattern=pattern), 'Clean_Tweet')],\n",
        "                               remainder='passthrough')\n",
        "\n",
        "multi_layer_perceptron = MLPClassifier()\n",
        "\n",
        "model_pipeline = Pipeline([(\"textPreprocess\", preprocess),\n",
        "                           ('MLP', multi_layer_perceptron)])\n",
        "\n",
        "parameter_grid = [{'textPreprocess__Tfidf_Vect__analyzer' : ['word'],\n",
        "                   'textPreprocess__Tfidf_Vect__stop_words' : ['english'],\n",
        "                   'textPreprocess__Tfidf_Vect__ngram_range' : [(1,2)],\n",
        "                   'textPreprocess__Tfidf_Vect__max_df' : [1.0], \n",
        "                   'textPreprocess__Tfidf_Vect__min_df' : [1],\n",
        "                   'MLP__hidden_layer_sizes' : [(100,), (200,)],\n",
        "                   'MLP__activation' : ['relu'], \n",
        "                   'MLP__alpha' : [0.0001, 0.0005]}]\n",
        "\n",
        "score_types = {'f1_score' : make_scorer(f1_score), 'sensitivity' : make_scorer(recall_score), 'specificity' : make_scorer(recall_score, pos_label=0),\n",
        "               'AUC_ROC' : 'roc_auc', 'ROC_AUC_Score' : make_scorer(roc_auc_score), 'accuracy' : 'accuracy', 'precision' : make_scorer(precision_score)}\n",
        "\n",
        "gs = GridSearchCV(estimator=model_pipeline, param_grid=parameter_grid, scoring=score_types, refit='f1_score', n_jobs=1)\n",
        "\n",
        "gs.fit(X,y)\n",
        "\n",
        "PATH = '/content/drive/MyDrive/Programming/Colab Notebooks/Coding_Dojo/Twitter_Sentiment_Project/pickle_gridsearch/mlp_gs1_sm.pkl'\n",
        "\n",
        "with open(PATH, 'wb') as file:\n",
        "  pickle.dump(gs, file)\n",
        "'''"
      ],
      "execution_count": null,
      "outputs": []
    },
    {
      "cell_type": "code",
      "metadata": {
        "id": "DunMEF6ycnNZ"
      },
      "source": [
        "# Reran and increased the optimizers max iterations (see next cell). Some iterations did not converge when max = 200. \n",
        "'''\n",
        "X = tweet_df.loc[:, ['Clean_Tweet']]\n",
        "y = tweet_df.loc[:, 'label'].to_numpy().ravel()\n",
        "\n",
        "preprocess = ColumnTransformer(transformers=[(\"Tfidf_Vect\", TfidfVectorizer(token_pattern=pattern), 'Clean_Tweet')],\n",
        "                               remainder='passthrough')\n",
        "\n",
        "multi_layer_perceptron = MLPClassifier()\n",
        "\n",
        "model_pipeline = Pipeline([(\"textPreprocess\", preprocess),\n",
        "                           ('MLP', multi_layer_perceptron)])\n",
        "\n",
        "parameter_grid = [{'textPreprocess__Tfidf_Vect__analyzer' : ['word'],\n",
        "                   'textPreprocess__Tfidf_Vect__stop_words' : ['english'],\n",
        "                   'textPreprocess__Tfidf_Vect__ngram_range' : [(1,2)],\n",
        "                   'textPreprocess__Tfidf_Vect__max_df' : [1.0], \n",
        "                   'textPreprocess__Tfidf_Vect__min_df' : [1],\n",
        "                   'MLP__hidden_layer_sizes' : [(100,), (200,)],\n",
        "                   'MLP__activation' : ['relu'],\n",
        "                   'MLP__solver' : ['sgd'], \n",
        "                   'MLP__learning_rate' : ['adaptive'],\n",
        "                   'MLP__max_iter' : [500],\n",
        "                   'MLP__alpha' : [0.0001, 0.0005]}]\n",
        "\n",
        "score_types = {'f1_score' : make_scorer(f1_score), 'sensitivity' : make_scorer(recall_score), 'specificity' : make_scorer(recall_score, pos_label=0),\n",
        "               'AUC_ROC' : 'roc_auc', 'ROC_AUC_Score' : make_scorer(roc_auc_score), 'accuracy' : 'accuracy', 'precision' : make_scorer(precision_score)}\n",
        "\n",
        "gs = GridSearchCV(estimator=model_pipeline, param_grid=parameter_grid, scoring=score_types, refit='f1_score', n_jobs=1)\n",
        "\n",
        "gs.fit(X,y)\n",
        "\n",
        "PATH = '/content/drive/MyDrive/Programming/Colab Notebooks/Coding_Dojo/Twitter_Sentiment_Project/pickle_gridsearch/mlp_gs1.pkl'\n",
        "\n",
        "with open(PATH, 'wb') as file:\n",
        "  pickle.dump(gs, file)\n",
        "'''"
      ],
      "execution_count": null,
      "outputs": []
    },
    {
      "cell_type": "code",
      "metadata": {
        "id": "Fd8MVkuVxSBX"
      },
      "source": [
        "# Still having issues with adaptive learning. Needs further investigation, SGD may be getting stuck in a saddle.\n",
        "'''\n",
        "X = tweet_df.loc[:, ['Clean_Tweet']]\n",
        "y = tweet_df.loc[:, 'label'].to_numpy().ravel()\n",
        "\n",
        "preprocess = ColumnTransformer(transformers=[(\"Tfidf_Vect\", TfidfVectorizer(token_pattern=pattern), 'Clean_Tweet')],\n",
        "                               remainder='passthrough')\n",
        "\n",
        "multi_layer_perceptron = MLPClassifier()\n",
        "\n",
        "model_pipeline = Pipeline([(\"textPreprocess\", preprocess),\n",
        "                           ('MLP', multi_layer_perceptron)])\n",
        "\n",
        "parameter_grid = [{'textPreprocess__Tfidf_Vect__analyzer' : ['word'],\n",
        "                   'textPreprocess__Tfidf_Vect__stop_words' : ['english'],\n",
        "                   'textPreprocess__Tfidf_Vect__ngram_range' : [(1,2)],\n",
        "                   'textPreprocess__Tfidf_Vect__max_df' : [1.0], \n",
        "                   'textPreprocess__Tfidf_Vect__min_df' : [1],\n",
        "                   'MLP__hidden_layer_sizes' : [(100,), (200,)],\n",
        "                   'MLP__activation' : ['relu'],\n",
        "                   'MLP__solver' : ['sgd'], \n",
        "                   'MLP__learning_rate' : ['adaptive'],\n",
        "                   'MLP__max_iter' : [500],\n",
        "                   'MLP__alpha' : [0.0001, 0.0005],\n",
        "                   'MLP__early_stopping' : [True],\n",
        "                   'MLP__learning_rate_init' : [0.2]}]\n",
        "\n",
        "score_types = {'f1_score' : make_scorer(f1_score), 'sensitivity' : make_scorer(recall_score), 'specificity' : make_scorer(recall_score, pos_label=0),\n",
        "               'AUC_ROC' : 'roc_auc', 'ROC_AUC_Score' : make_scorer(roc_auc_score), 'accuracy' : 'accuracy', 'precision' : make_scorer(precision_score)}\n",
        "\n",
        "gs = GridSearchCV(estimator=model_pipeline, param_grid=parameter_grid, scoring=score_types, refit='f1_score', n_jobs=1)\n",
        "\n",
        "gs.fit(X,y)\n",
        "\n",
        "PATH = '/content/drive/MyDrive/Programming/Colab Notebooks/Coding_Dojo/Twitter_Sentiment_Project/pickle_gridsearch/mlp_adaptive_gs2.pkl'\n",
        "\n",
        "with open(PATH, 'wb') as file:\n",
        "  pickle.dump(gs, file)\n",
        "'''"
      ],
      "execution_count": null,
      "outputs": []
    }
  ]
}
{
  "nbformat": 4,
  "nbformat_minor": 0,
  "metadata": {
    "colab": {
      "name": "04_Multinomial_Naive_Bayes_Modeling.ipynb",
      "provenance": [],
      "collapsed_sections": [],
      "authorship_tag": "ABX9TyNtbr31orN71GDiOQy/3u4S",
      "include_colab_link": true
    },
    "kernelspec": {
      "name": "python3",
      "display_name": "Python 3"
    },
    "language_info": {
      "name": "python"
    }
  },
  "cells": [
    {
      "cell_type": "markdown",
      "metadata": {
        "id": "view-in-github",
        "colab_type": "text"
      },
      "source": [
        "<a href=\"https://colab.research.google.com/github/BradenAnderson/Twitter-Sentiment-Analysis/blob/main/04_Multinomial_Naive_Bayes_Modeling.ipynb\" target=\"_parent\"><img src=\"https://colab.research.google.com/assets/colab-badge.svg\" alt=\"Open In Colab\"/></a>"
      ]
    },
    {
      "cell_type": "markdown",
      "metadata": {
        "id": "Ayyy_jZbirUr"
      },
      "source": [
        "## This notebook contains the code to perform hyperparameter tuning on Multinomial Naive Bayes Models. \n",
        "\n",
        "## Displaying and reviewing the search results is done in the 04_Modeling_Analysis notebook."
      ]
    },
    {
      "cell_type": "code",
      "metadata": {
        "colab": {
          "base_uri": "https://localhost:8080/"
        },
        "id": "ad_IVrRGvIWX",
        "outputId": "ef2533a6-335e-4e1d-a3c4-1de11ead9a39"
      },
      "source": [
        "from google.colab import drive\n",
        "drive.mount('/content/drive')"
      ],
      "execution_count": null,
      "outputs": [
        {
          "output_type": "stream",
          "text": [
            "Mounted at /content/drive\n"
          ],
          "name": "stdout"
        }
      ]
    },
    {
      "cell_type": "code",
      "metadata": {
        "id": "REesbUR8uslM"
      },
      "source": [
        "import pickle\n",
        "import pandas as pd\n",
        "import numpy as np\n",
        "import seaborn as sns\n",
        "import matplotlib.pyplot as plt\n",
        "\n",
        "from sklearn.model_selection import cross_val_score, GridSearchCV, RandomizedSearchCV, train_test_split, cross_validate, cross_val_predict\n",
        "from sklearn.naive_bayes import MultinomialNB\n",
        "from sklearn.pipeline import Pipeline\n",
        "from sklearn.feature_extraction.text import TfidfTransformer, TfidfVectorizer, CountVectorizer\n",
        "from sklearn.compose import ColumnTransformer\n",
        "\n",
        "from sklearn.metrics import precision_score, recall_score, accuracy_score, SCORERS, multilabel_confusion_matrix, make_scorer, roc_curve, roc_auc_score, f1_score"
      ],
      "execution_count": null,
      "outputs": []
    },
    {
      "cell_type": "code",
      "metadata": {
        "colab": {
          "base_uri": "https://localhost:8080/",
          "height": 202
        },
        "id": "4a9ubCp-xyt1",
        "outputId": "5669224d-b0e4-4912-89d4-da57f0304595"
      },
      "source": [
        "filepath= \"/content/drive/MyDrive/Programming/Colab Notebooks/Coding_Dojo/Twitter_Sentiment_Project/intermediate_output_files/vader_full_preprocessing_model_droppedlt3.csv\"\n",
        "\n",
        "tweet_df = pd.read_csv(filepath)\n",
        "\n",
        "tweet_df.head()"
      ],
      "execution_count": null,
      "outputs": [
        {
          "output_type": "execute_result",
          "data": {
            "text/html": [
              "<div>\n",
              "<style scoped>\n",
              "    .dataframe tbody tr th:only-of-type {\n",
              "        vertical-align: middle;\n",
              "    }\n",
              "\n",
              "    .dataframe tbody tr th {\n",
              "        vertical-align: top;\n",
              "    }\n",
              "\n",
              "    .dataframe thead th {\n",
              "        text-align: right;\n",
              "    }\n",
              "</style>\n",
              "<table border=\"1\" class=\"dataframe\">\n",
              "  <thead>\n",
              "    <tr style=\"text-align: right;\">\n",
              "      <th></th>\n",
              "      <th>label</th>\n",
              "      <th>tweet</th>\n",
              "      <th>Clean_Tweet</th>\n",
              "      <th>Sentence_Level_pos_Score</th>\n",
              "      <th>Sentence_Level_neg_Score</th>\n",
              "      <th>Sentence_Level_neu_Score</th>\n",
              "      <th>Sentence_Level_compound_Score</th>\n",
              "    </tr>\n",
              "  </thead>\n",
              "  <tbody>\n",
              "    <tr>\n",
              "      <th>0</th>\n",
              "      <td>0</td>\n",
              "      <td>@user when a father is dysfunctional and is s...</td>\n",
              "      <td>father dysfunctional significant selfish pron ...</td>\n",
              "      <td>0.000</td>\n",
              "      <td>0.211</td>\n",
              "      <td>0.789</td>\n",
              "      <td>0.58520</td>\n",
              "    </tr>\n",
              "    <tr>\n",
              "      <th>1</th>\n",
              "      <td>0</td>\n",
              "      <td>@user @user thanks for #lyft credit i can't us...</td>\n",
              "      <td>thank #lyft credit use cause pron offer wheelc...</td>\n",
              "      <td>0.157</td>\n",
              "      <td>0.000</td>\n",
              "      <td>0.843</td>\n",
              "      <td>1.33525</td>\n",
              "    </tr>\n",
              "    <tr>\n",
              "      <th>2</th>\n",
              "      <td>0</td>\n",
              "      <td>bihday your majesty</td>\n",
              "      <td>bihday pron majesty</td>\n",
              "      <td>0.000</td>\n",
              "      <td>0.000</td>\n",
              "      <td>1.000</td>\n",
              "      <td>1.00000</td>\n",
              "    </tr>\n",
              "    <tr>\n",
              "      <th>3</th>\n",
              "      <td>0</td>\n",
              "      <td>#model   i love u take with u all the time in ...</td>\n",
              "      <td>#model love pron pron time pron happy love hap...</td>\n",
              "      <td>0.194</td>\n",
              "      <td>0.000</td>\n",
              "      <td>0.806</td>\n",
              "      <td>1.36245</td>\n",
              "    </tr>\n",
              "    <tr>\n",
              "      <th>4</th>\n",
              "      <td>0</td>\n",
              "      <td>factsguide: society now    #motivation</td>\n",
              "      <td>factsguide society #motivation</td>\n",
              "      <td>0.000</td>\n",
              "      <td>0.000</td>\n",
              "      <td>1.000</td>\n",
              "      <td>1.00000</td>\n",
              "    </tr>\n",
              "  </tbody>\n",
              "</table>\n",
              "</div>"
            ],
            "text/plain": [
              "   label  ... Sentence_Level_compound_Score\n",
              "0      0  ...                       0.58520\n",
              "1      0  ...                       1.33525\n",
              "2      0  ...                       1.00000\n",
              "3      0  ...                       1.36245\n",
              "4      0  ...                       1.00000\n",
              "\n",
              "[5 rows x 7 columns]"
            ]
          },
          "metadata": {
            "tags": []
          },
          "execution_count": 3
        }
      ]
    },
    {
      "cell_type": "code",
      "metadata": {
        "id": "_EdOpqTEvuvw"
      },
      "source": [
        "# Regex pattern to split the tweets into tokens.\n",
        "pattern=r'\\b\\w\\w+\\b|(?<!\\w)#\\w+'"
      ],
      "execution_count": null,
      "outputs": []
    },
    {
      "cell_type": "code",
      "metadata": {
        "id": "l8Ss4YjBzFsd"
      },
      "source": [
        "'''\n",
        "X = tweet_df.loc[:, ['Clean_Tweet']]\n",
        "y = tweet_df.loc[:, 'label'].to_numpy().ravel()\n",
        "\n",
        "preprocess = ColumnTransformer(transformers=[(\"Tfidf_Vect\", TfidfVectorizer(token_pattern=pattern), 'Clean_Tweet')],\n",
        "                               remainder='passthrough')\n",
        "\n",
        "naive_baye = MultinomialNB() \n",
        "\n",
        "model_pipeline = Pipeline([(\"textPreprocess\", preprocess),\n",
        "                           ('Baye', naive_baye)])\n",
        "\n",
        "parameter_grid = [{'textPreprocess__Tfidf_Vect__analyzer' : ['word', 'char', 'char_wb'],\n",
        "                   'textPreprocess__Tfidf_Vect__stop_words' : ['english', None],\n",
        "                   'textPreprocess__Tfidf_Vect__ngram_range' : [(1,1), (1,2)],\n",
        "                   'textPreprocess__Tfidf_Vect__max_df' : [0.7, 0.8, 0.9, 0.95, 1.0], \n",
        "                   'textPreprocess__Tfidf_Vect__min_df' : [1, 5, 10, 20],\n",
        "                   'Baye__fit_prior' : [True, False]}]\n",
        "\n",
        "score_types = {'f1_score' : make_scorer(f1_score), 'sensitivity' : make_scorer(recall_score), 'specificity' : make_scorer(recall_score, pos_label=0),\n",
        "               'AUC_ROC' : 'roc_auc', 'ROC_AUC_Score' : make_scorer(roc_auc_score), 'accuracy' : 'accuracy', 'precision' : make_scorer(precision_score)}\n",
        "\n",
        "gs = GridSearchCV(estimator=model_pipeline, param_grid=parameter_grid, scoring=score_types, refit='f1_score', n_jobs=-1)\n",
        "\n",
        "gs.fit(X,y)\n",
        "\n",
        "PATH = '/content/drive/MyDrive/Programming/Colab Notebooks/Coding_Dojo/Twitter_Sentiment_Project/pickle_gridsearch/naive_bayes_gs1.pkl'\n",
        "\n",
        "with open(PATH, 'wb') as file:\n",
        "  pickle.dump(gs, file)\n",
        "'''"
      ],
      "execution_count": null,
      "outputs": []
    },
    {
      "cell_type": "code",
      "metadata": {
        "id": "rDNkmAkqjWWy"
      },
      "source": [
        "# Imblearn pipeline is the same as sklearn pipeline with added functionality to support over sampling.\n",
        "from imblearn.pipeline import Pipeline\n",
        "from imblearn.over_sampling import RandomOverSampler"
      ],
      "execution_count": null,
      "outputs": []
    },
    {
      "cell_type": "code",
      "metadata": {
        "id": "mLehb3s7DcSv"
      },
      "source": [
        "'''\n",
        "X = tweet_df.loc[:, ['Clean_Tweet']]\n",
        "y = tweet_df.loc[:, 'label'].to_numpy().ravel()\n",
        "\n",
        "preprocess = ColumnTransformer(transformers=[(\"Tfidf_Vect\", TfidfVectorizer(token_pattern=pattern), 'Clean_Tweet')],\n",
        "                               remainder='passthrough')\n",
        "\n",
        "naive_baye = MultinomialNB() \n",
        "\n",
        "random_os = RandomOverSampler()\n",
        "\n",
        "model_pipeline = Pipeline([(\"textPreprocess\", preprocess),\n",
        "                           ('overSampler', random_os),\n",
        "                           ('Baye', naive_baye)])\n",
        "\n",
        "parameter_grid = [{'textPreprocess__Tfidf_Vect__analyzer' : ['word', 'char', 'char_wb'],\n",
        "                   'textPreprocess__Tfidf_Vect__stop_words' : ['english', None],\n",
        "                   'textPreprocess__Tfidf_Vect__ngram_range' : [(1,1), (1,2)],\n",
        "                   'textPreprocess__Tfidf_Vect__max_df' : [0.7, 0.8, 0.9, 0.95, 1.0], \n",
        "                   'textPreprocess__Tfidf_Vect__min_df' : [1, 5, 10, 20],\n",
        "                   'overSampler__sampling_strategy' : ['auto', 0.6, 0.4],\n",
        "                   'Baye__fit_prior' : [True, False]}]\n",
        "\n",
        "score_types = {'f1_score' : make_scorer(f1_score), 'sensitivity' : make_scorer(recall_score), 'specificity' : make_scorer(recall_score, pos_label=0),\n",
        "               'AUC_ROC' : 'roc_auc', 'ROC_AUC_Score' : make_scorer(roc_auc_score), 'accuracy' : 'accuracy', 'precision' : make_scorer(precision_score)}\n",
        "\n",
        "gs = GridSearchCV(estimator=model_pipeline, param_grid=parameter_grid, scoring=score_types, refit='f1_score', n_jobs=-1)\n",
        "\n",
        "gs.fit(X,y)\n",
        "\n",
        "PATH = '/content/drive/MyDrive/Programming/Colab Notebooks/Coding_Dojo/Twitter_Sentiment_Project/pickle_gridsearch/naive_bayes_ros_gs1.pkl'\n",
        "\n",
        "with open(PATH, 'wb') as file:\n",
        "  pickle.dump(gs, file)\n",
        "'''"
      ],
      "execution_count": null,
      "outputs": []
    },
    {
      "cell_type": "code",
      "metadata": {
        "id": "IVuy4Krq2yTV"
      },
      "source": [
        "'''\n",
        "X = tweet_df.loc[:, ['Clean_Tweet', 'Sentence_Level_pos_Score', 'Sentence_Level_neg_Score', 'Sentence_Level_compound_Score']]\n",
        "y = tweet_df.loc[:, 'label'].to_numpy().ravel()\n",
        "\n",
        "preprocess = ColumnTransformer(transformers=[(\"Tfidf_Vect\", TfidfVectorizer(token_pattern=pattern), 'Clean_Tweet')],\n",
        "                               remainder='passthrough')\n",
        "\n",
        "naive_baye = MultinomialNB() \n",
        "\n",
        "random_os = RandomOverSampler()\n",
        "\n",
        "model_pipeline = Pipeline([(\"textPreprocess\", preprocess),\n",
        "                           ('overSampler', random_os),\n",
        "                           ('Baye', naive_baye)])\n",
        "\n",
        "parameter_grid = [{'textPreprocess__Tfidf_Vect__analyzer' : ['word', 'char', 'char_wb'],\n",
        "                   'textPreprocess__Tfidf_Vect__stop_words' : ['english', None],\n",
        "                   'textPreprocess__Tfidf_Vect__ngram_range' : [(1,1), (1,2)],\n",
        "                   'textPreprocess__Tfidf_Vect__max_df' : [0.7, 0.8, 0.9, 0.95, 1.0], \n",
        "                   'textPreprocess__Tfidf_Vect__min_df' : [1, 5, 10, 20],\n",
        "                   'overSampler__sampling_strategy' : ['auto', 0.6, 0.4],\n",
        "                   'Baye__fit_prior' : [True, False]}]\n",
        "\n",
        "score_types = {'f1_score' : make_scorer(f1_score), 'sensitivity' : make_scorer(recall_score), 'specificity' : make_scorer(recall_score, pos_label=0),\n",
        "               'AUC_ROC' : 'roc_auc', 'ROC_AUC_Score' : make_scorer(roc_auc_score), 'accuracy' : 'accuracy', 'precision' : make_scorer(precision_score)}\n",
        "\n",
        "gs = GridSearchCV(estimator=model_pipeline, param_grid=parameter_grid, scoring=score_types, refit='f1_score', n_jobs=-1)\n",
        "\n",
        "gs.fit(X,y)\n",
        "\n",
        "PATH = '/content/drive/MyDrive/Programming/Colab Notebooks/Coding_Dojo/Twitter_Sentiment_Project/pickle_gridsearch/naive_bayes_ros_v_gs1.pkl'\n",
        "\n",
        "with open(PATH, 'wb') as file:\n",
        "  pickle.dump(gs, file)\n",
        "'''"
      ],
      "execution_count": null,
      "outputs": []
    },
    {
      "cell_type": "code",
      "metadata": {
        "id": "GVD7DXV0Zle_"
      },
      "source": [
        "'''\n",
        "X = tweet_df.loc[:, ['Clean_Tweet']]\n",
        "y = tweet_df.loc[:, 'label'].to_numpy().ravel()\n",
        "\n",
        "preprocess = ColumnTransformer(transformers=[(\"Tfidf_Vect\", TfidfVectorizer(token_pattern=pattern), 'Clean_Tweet')],\n",
        "                               remainder='passthrough')\n",
        "\n",
        "naive_baye = MultinomialNB() \n",
        "\n",
        "random_os = RandomOverSampler()\n",
        "\n",
        "model_pipeline = Pipeline([(\"textPreprocess\", preprocess),\n",
        "                           ('overSampler', random_os),\n",
        "                           ('Baye', naive_baye)])\n",
        "\n",
        "parameter_grid = [{'textPreprocess__Tfidf_Vect__analyzer' : ['word'],\n",
        "                   'textPreprocess__Tfidf_Vect__stop_words' : ['english', None],\n",
        "                   'textPreprocess__Tfidf_Vect__ngram_range' : [(1,1), (1,2)],\n",
        "                   'textPreprocess__Tfidf_Vect__max_df' : [0.85, 0.9, 0.95, 1.0], \n",
        "                   'textPreprocess__Tfidf_Vect__min_df' : [1, 2, 3],\n",
        "                   'overSampler__sampling_strategy' : [0.3, 0.4, 0.5],\n",
        "                   'Baye__fit_prior' : [True],\n",
        "                   'Baye__alpha' : [0.0, 0.5, 1.0, 1.5, 2.0]}]\n",
        "\n",
        "score_types = {'f1_score' : make_scorer(f1_score), 'sensitivity' : make_scorer(recall_score), 'specificity' : make_scorer(recall_score, pos_label=0),\n",
        "               'AUC_ROC' : 'roc_auc', 'ROC_AUC_Score' : make_scorer(roc_auc_score), 'accuracy' : 'accuracy', 'precision' : make_scorer(precision_score)}\n",
        "\n",
        "gs = GridSearchCV(estimator=model_pipeline, param_grid=parameter_grid, scoring=score_types, refit='f1_score', n_jobs=-1)\n",
        "\n",
        "gs.fit(X,y)\n",
        "\n",
        "PATH = '/content/drive/MyDrive/Programming/Colab Notebooks/Coding_Dojo/Twitter_Sentiment_Project/pickle_gridsearch/naive_bayes_ros_gs2.pkl'\n",
        "\n",
        "with open(PATH, 'wb') as file:\n",
        "  pickle.dump(gs, file)\n",
        "'''"
      ],
      "execution_count": null,
      "outputs": []
    },
    {
      "cell_type": "code",
      "metadata": {
        "id": "milyA1ZTyVJO"
      },
      "source": [
        "# Import synthetic minority over sampling.\n",
        "from imblearn.over_sampling import SMOTE"
      ],
      "execution_count": null,
      "outputs": []
    },
    {
      "cell_type": "code",
      "metadata": {
        "id": "Dp4a-vatx0Ih"
      },
      "source": [
        "'''\n",
        "X = tweet_df.loc[:, ['Clean_Tweet']]\n",
        "y = tweet_df.loc[:, 'label'].to_numpy().ravel()\n",
        "\n",
        "preprocess = ColumnTransformer(transformers=[(\"Tfidf_Vect\", TfidfVectorizer(token_pattern=pattern), 'Clean_Tweet')],\n",
        "                               remainder='passthrough')\n",
        "\n",
        "naive_baye = MultinomialNB() \n",
        "\n",
        "smote_os = SMOTE()\n",
        "\n",
        "model_pipeline = Pipeline([(\"textPreprocess\", preprocess),\n",
        "                           ('overSampler', smote_os),\n",
        "                           ('Baye', naive_baye)])\n",
        "\n",
        "parameter_grid = [{'textPreprocess__Tfidf_Vect__analyzer' : ['word'],\n",
        "                   'textPreprocess__Tfidf_Vect__stop_words' : ['english'],\n",
        "                   'textPreprocess__Tfidf_Vect__ngram_range' : [(1,1), (1,2), (1,3)],\n",
        "                   'textPreprocess__Tfidf_Vect__max_df' : [0.85, 1.0], \n",
        "                   'textPreprocess__Tfidf_Vect__min_df' : [1],\n",
        "                   'overSampler__sampling_strategy' : ['auto', 0.4, 0.5, 0.6, 0.7],\n",
        "                   'overSampler__k_neighbors' : [1, 3, 5],\n",
        "                   'Baye__fit_prior' : [True],\n",
        "                   'Baye__alpha' : [0.5, 1.0, 1.5]}]\n",
        "\n",
        "score_types = {'f1_score' : make_scorer(f1_score), 'sensitivity' : make_scorer(recall_score), 'specificity' : make_scorer(recall_score, pos_label=0),\n",
        "               'AUC_ROC' : 'roc_auc', 'ROC_AUC_Score' : make_scorer(roc_auc_score), 'accuracy' : 'accuracy', 'precision' : make_scorer(precision_score)}\n",
        "\n",
        "gs = GridSearchCV(estimator=model_pipeline, param_grid=parameter_grid, scoring=score_types, refit='f1_score', n_jobs=1)\n",
        "\n",
        "gs.fit(X,y)\n",
        "\n",
        "PATH = '/content/drive/MyDrive/Programming/Colab Notebooks/Coding_Dojo/Twitter_Sentiment_Project/pickle_gridsearch/naive_bayes_smote_gs1.pkl'\n",
        "\n",
        "with open(PATH, 'wb') as file:\n",
        "  pickle.dump(gs, file)\n",
        "'''"
      ],
      "execution_count": null,
      "outputs": []
    },
    {
      "cell_type": "code",
      "metadata": {
        "id": "HKrNaTo9uiSa"
      },
      "source": [
        "'''\n",
        "X = tweet_df.loc[:, ['Clean_Tweet']]\n",
        "y = tweet_df.loc[:, 'label'].to_numpy().ravel()\n",
        "\n",
        "preprocess = ColumnTransformer(transformers=[(\"Tfidf_Vect\", TfidfVectorizer(token_pattern=pattern), 'Clean_Tweet')],\n",
        "                               remainder='passthrough')\n",
        "\n",
        "naive_baye = MultinomialNB() \n",
        "\n",
        "smote_os = SMOTE()\n",
        "\n",
        "model_pipeline = Pipeline([(\"textPreprocess\", preprocess),\n",
        "                           ('overSampler', smote_os),\n",
        "                           ('Baye', naive_baye)])\n",
        "\n",
        "parameter_grid = [{'textPreprocess__Tfidf_Vect__analyzer' : ['word'],\n",
        "                   'textPreprocess__Tfidf_Vect__stop_words' : ['english'],\n",
        "                   'textPreprocess__Tfidf_Vect__ngram_range' : [(1,2)],\n",
        "                   'textPreprocess__Tfidf_Vect__max_df' : [1.0], \n",
        "                   'textPreprocess__Tfidf_Vect__min_df' : [1],\n",
        "                   'overSampler__sampling_strategy' : [0.3, 0.4],\n",
        "                   'overSampler__k_neighbors' : [1, 3, 5, 7],\n",
        "                   'Baye__fit_prior' : [True],\n",
        "                   'Baye__alpha' : [0.4, 0.5, 0.6]}]\n",
        "\n",
        "score_types = {'f1_score' : make_scorer(f1_score), 'sensitivity' : make_scorer(recall_score), 'specificity' : make_scorer(recall_score, pos_label=0),\n",
        "               'AUC_ROC' : 'roc_auc', 'ROC_AUC_Score' : make_scorer(roc_auc_score), 'accuracy' : 'accuracy', 'precision' : make_scorer(precision_score)}\n",
        "\n",
        "gs = GridSearchCV(estimator=model_pipeline, param_grid=parameter_grid, scoring=score_types, refit='f1_score', n_jobs=1)\n",
        "\n",
        "gs.fit(X,y)\n",
        "\n",
        "PATH = '/content/drive/MyDrive/Programming/Colab Notebooks/Coding_Dojo/Twitter_Sentiment_Project/pickle_gridsearch/naive_bayes_smote_gs2.pkl'\n",
        "\n",
        "with open(PATH, 'wb') as file:\n",
        "  pickle.dump(gs, file)\n",
        "'''"
      ],
      "execution_count": null,
      "outputs": []
    },
    {
      "cell_type": "code",
      "metadata": {
        "id": "MeGQuDcK39rd"
      },
      "source": [
        "'''\n",
        "X = tweet_df.loc[:, ['Clean_Tweet']]\n",
        "y = tweet_df.loc[:, 'label'].to_numpy().ravel()\n",
        "\n",
        "preprocess = ColumnTransformer(transformers=[(\"Tfidf_Vect\", TfidfVectorizer(token_pattern=pattern), 'Clean_Tweet')],\n",
        "                               remainder='passthrough')\n",
        "\n",
        "naive_baye = MultinomialNB() \n",
        "\n",
        "smote_os = SMOTE()\n",
        "\n",
        "model_pipeline = Pipeline([(\"textPreprocess\", preprocess),\n",
        "                           ('overSampler', smote_os),\n",
        "                           ('Baye', naive_baye)])\n",
        "\n",
        "parameter_grid = [{'textPreprocess__Tfidf_Vect__analyzer' : ['word'],\n",
        "                   'textPreprocess__Tfidf_Vect__stop_words' : ['english'],\n",
        "                   'textPreprocess__Tfidf_Vect__ngram_range' : [(1,2)],\n",
        "                   'textPreprocess__Tfidf_Vect__max_df' : [1.0], \n",
        "                   'textPreprocess__Tfidf_Vect__min_df' : [1],\n",
        "                   'overSampler__sampling_strategy' : [0.3, 0.4],\n",
        "                   'overSampler__k_neighbors' : [7, 9],\n",
        "                   'Baye__fit_prior' : [True],\n",
        "                   'Baye__alpha' : [0.3, 0.4]}]\n",
        "\n",
        "score_types = {'f1_score' : make_scorer(f1_score), 'sensitivity' : make_scorer(recall_score), 'specificity' : make_scorer(recall_score, pos_label=0),\n",
        "               'AUC_ROC' : 'roc_auc', 'ROC_AUC_Score' : make_scorer(roc_auc_score), 'accuracy' : 'accuracy', 'precision' : make_scorer(precision_score)}\n",
        "\n",
        "gs = GridSearchCV(estimator=model_pipeline, param_grid=parameter_grid, scoring=score_types, refit='f1_score', n_jobs=1)\n",
        "\n",
        "gs.fit(X,y)\n",
        "\n",
        "PATH = '/content/drive/MyDrive/Programming/Colab Notebooks/Coding_Dojo/Twitter_Sentiment_Project/pickle_gridsearch/naive_bayes_smote_gs3.pkl'\n",
        "\n",
        "with open(PATH, 'wb') as file:\n",
        "  pickle.dump(gs, file)\n",
        "'''"
      ],
      "execution_count": null,
      "outputs": []
    }
  ]
}
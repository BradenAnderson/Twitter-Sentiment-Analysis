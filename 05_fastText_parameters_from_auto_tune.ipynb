{
  "nbformat": 4,
  "nbformat_minor": 0,
  "metadata": {
    "colab": {
      "name": "05_fastText_parameters_from_auto_tune.ipynb",
      "provenance": [],
      "collapsed_sections": [],
      "authorship_tag": "ABX9TyMdGUxHF5/Sdv4/Z6OCx3dI",
      "include_colab_link": true
    },
    "kernelspec": {
      "name": "python3",
      "display_name": "Python 3"
    },
    "language_info": {
      "name": "python"
    }
  },
  "cells": [
    {
      "cell_type": "markdown",
      "metadata": {
        "id": "view-in-github",
        "colab_type": "text"
      },
      "source": [
        "<a href=\"https://colab.research.google.com/github/BradenAnderson/Twitter-Sentiment-Analysis/blob/main/05_fastText_parameters_from_auto_tune.ipynb\" target=\"_parent\"><img src=\"https://colab.research.google.com/assets/colab-badge.svg\" alt=\"Open In Colab\"/></a>"
      ]
    },
    {
      "cell_type": "markdown",
      "metadata": {
        "id": "0Mimsm3jjaaP"
      },
      "source": [
        "### This notebook starts exploring how to get the best parameters that were found by fastText auto tune from a trained model.\n",
        "\n",
        "Some additional information on this topic can be found here:\n",
        "\n",
        "https://github.com/facebookresearch/fastText/issues/913\n",
        "\n"
      ]
    },
    {
      "cell_type": "code",
      "metadata": {
        "colab": {
          "base_uri": "https://localhost:8080/"
        },
        "id": "vUINSGvOQvgd",
        "outputId": "7b62c26f-802b-4bd1-a20a-24b2634c0adf"
      },
      "source": [
        "from google.colab import drive\n",
        "drive.mount('/content/drive')"
      ],
      "execution_count": null,
      "outputs": [
        {
          "output_type": "stream",
          "text": [
            "Mounted at /content/drive\n"
          ],
          "name": "stdout"
        }
      ]
    },
    {
      "cell_type": "code",
      "metadata": {
        "colab": {
          "base_uri": "https://localhost:8080/"
        },
        "id": "GvZPmdlK0VWj",
        "outputId": "6edfccba-cd4c-4f9f-d6a4-dd8f7b1a9e3c"
      },
      "source": [
        "! git clone https://github.com/facebookresearch/fastText.git"
      ],
      "execution_count": null,
      "outputs": [
        {
          "output_type": "stream",
          "text": [
            "Cloning into 'fastText'...\n",
            "remote: Enumerating objects: 3854, done.\u001b[K\n",
            "remote: Total 3854 (delta 0), reused 0 (delta 0), pack-reused 3854\u001b[K\n",
            "Receiving objects: 100% (3854/3854), 8.22 MiB | 19.63 MiB/s, done.\n",
            "Resolving deltas: 100% (2417/2417), done.\n"
          ],
          "name": "stdout"
        }
      ]
    },
    {
      "cell_type": "code",
      "metadata": {
        "colab": {
          "base_uri": "https://localhost:8080/"
        },
        "id": "BBliYHKV0V6L",
        "outputId": "09525953-6f15-4a06-ceea-67b5bf38d149"
      },
      "source": [
        "! pip install /content/fastText"
      ],
      "execution_count": null,
      "outputs": [
        {
          "output_type": "stream",
          "text": [
            "Processing ./fastText\n",
            "Requirement already satisfied: pybind11>=2.2 in /usr/local/lib/python3.7/dist-packages (from fasttext==0.9.2) (2.6.2)\n",
            "Requirement already satisfied: setuptools>=0.7.0 in /usr/local/lib/python3.7/dist-packages (from fasttext==0.9.2) (54.2.0)\n",
            "Requirement already satisfied: numpy in /usr/local/lib/python3.7/dist-packages (from fasttext==0.9.2) (1.19.5)\n",
            "Building wheels for collected packages: fasttext\n",
            "  Building wheel for fasttext (setup.py) ... \u001b[?25l\u001b[?25hdone\n",
            "  Created wheel for fasttext: filename=fasttext-0.9.2-cp37-cp37m-linux_x86_64.whl size=3085711 sha256=a69d2476ad23b9f32b73bf1ae976705838629b8e438245a212f74ee9a95bf364\n",
            "  Stored in directory: /tmp/pip-ephem-wheel-cache-qjoo7fpr/wheels/a1/9f/52/696ce6c5c46325e840c76614ee5051458c0df10306987e7443\n",
            "Successfully built fasttext\n",
            "Installing collected packages: fasttext\n",
            "Successfully installed fasttext-0.9.2\n"
          ],
          "name": "stdout"
        }
      ]
    },
    {
      "cell_type": "code",
      "metadata": {
        "id": "xQriM3AcQCoq"
      },
      "source": [
        "import pickle\n",
        "import pandas as pd\n",
        "import numpy as np\n",
        "import seaborn as sns\n",
        "import matplotlib.pyplot as plt\n",
        "import multiprocessing\n",
        "\n",
        "import fasttext\n",
        "from fasttext.FastText import load_model"
      ],
      "execution_count": null,
      "outputs": []
    },
    {
      "cell_type": "code",
      "metadata": {
        "id": "NyeLT3D0IhY7"
      },
      "source": [
        "TEXT_COLUMN = 'text'\n",
        "LABEL_COLUMN = 'label'\n",
        "LABEL_SEPARATOR = '__label__'\n",
        "PROBABILITY_COLUMN = 'p'\n",
        "RANDOM_SEED = 42\n",
        "VERBOSE = 3"
      ],
      "execution_count": null,
      "outputs": []
    },
    {
      "cell_type": "code",
      "metadata": {
        "id": "HZyjk8ErH5vN"
      },
      "source": [
        "train_parameters = {\n",
        "    'lr': 0.1,\n",
        "    'dim': 100,\n",
        "    'ws': 5,\n",
        "    'epoch': 5,\n",
        "    'minCount': 1,\n",
        "    'minCountLabel': 0,\n",
        "    'minn': 0,\n",
        "    'maxn': 0,\n",
        "    'neg': 5,\n",
        "    'wordNgrams': 1,\n",
        "    'bucket': 2000000,\n",
        "    'thread': multiprocessing.cpu_count() - 1,\n",
        "    'lrUpdateRate': 100,\n",
        "    't': 1e-4,\n",
        "    'label': LABEL_SEPARATOR,\n",
        "    'verbose': 2,\n",
        "    'pretrainedVectors': '',\n",
        "    'seed': 0,\n",
        "}\n",
        "\n",
        "def get_model_parameters(model):\n",
        "    args_getter = model.f.getArgs()\n",
        "\n",
        "    parameters = {}\n",
        "    for param in train_parameters:\n",
        "        attr = getattr(args_getter, param)\n",
        "        if param == 'loss':\n",
        "            attr = attr.name\n",
        "        parameters[param] = attr\n",
        "\n",
        "    return parameters"
      ],
      "execution_count": null,
      "outputs": []
    },
    {
      "cell_type": "code",
      "metadata": {
        "id": "j9OCK33V_WCD"
      },
      "source": [
        "# Path to the model that was trained for 8.33 hours.\n",
        "model_path = \"/content/drive/MyDrive/Programming/Colab Notebooks/Coding_Dojo/Twitter_Sentiment_Project/fastText_Models/autoTuned_longTrain_model.bin\"\n",
        "\n",
        "model = load_model(model_path)"
      ],
      "execution_count": null,
      "outputs": []
    },
    {
      "cell_type": "code",
      "metadata": {
        "id": "gmYfz4v8H-Ni"
      },
      "source": [
        "# Use the function above to extract the parameter found by fastText.\n",
        "parameters = get_model_parameters(model)"
      ],
      "execution_count": null,
      "outputs": []
    },
    {
      "cell_type": "code",
      "metadata": {
        "colab": {
          "base_uri": "https://localhost:8080/"
        },
        "id": "1SdlA8TEIjcU",
        "outputId": "231f8434-edaa-4ef0-cb1e-364d64a0a54e"
      },
      "source": [
        "# Display the best parameters.\n",
        "parameters"
      ],
      "execution_count": null,
      "outputs": [
        {
          "output_type": "execute_result",
          "data": {
            "text/plain": [
              "{'bucket': 0,\n",
              " 'dim': 41,\n",
              " 'epoch': 76,\n",
              " 'label': '__label__',\n",
              " 'lr': 0.05,\n",
              " 'lrUpdateRate': 100,\n",
              " 'maxn': 0,\n",
              " 'minCount': 1,\n",
              " 'minCountLabel': 0,\n",
              " 'minn': 0,\n",
              " 'neg': 5,\n",
              " 'pretrainedVectors': '',\n",
              " 'seed': 0,\n",
              " 't': 0.0001,\n",
              " 'thread': 12,\n",
              " 'verbose': 2,\n",
              " 'wordNgrams': 1,\n",
              " 'ws': 5}"
            ]
          },
          "metadata": {
            "tags": []
          },
          "execution_count": 9
        }
      ]
    },
    {
      "cell_type": "code",
      "metadata": {
        "id": "Oqfx7FVSJRkg"
      },
      "source": [
        "# Use the best parameters (shown above) to retrain the model on all of the data. (Commented out because this has been completed, now we can just load the model, see below.)\n",
        "'''\n",
        "# Path to a fastText formatted data file containing all of the data.\n",
        "all_data_file = \"/content/drive/MyDrive/Programming/Colab Notebooks/Coding_Dojo/Twitter_Sentiment_Project/fastText_Models/all_data.txt\"\n",
        "\n",
        "all_data_retrained_8hr_best_params_model = fasttext.train_supervised(input=all_data_file,\n",
        "                                                                     bucket=0,\n",
        "                                                                     dim=41,\n",
        "                                                                     epoch=76,\n",
        "                                                                     lr=0.05,\n",
        "                                                                     lrUpdateRate=100,\n",
        "                                                                     maxn=0,\n",
        "                                                                     minCount = 1,\n",
        "                                                                     minCountLabel = 0,\n",
        "                                                                     minn = 0, \n",
        "                                                                     neg = 5,\n",
        "                                                                     seed = 0,\n",
        "                                                                     t = 0.0001, \n",
        "                                                                     thread = 12,\n",
        "                                                                     verbose = 2,\n",
        "                                                                     wordNgrams = 1,\n",
        "                                                                     ws = 5)\n",
        "'''"
      ],
      "execution_count": null,
      "outputs": []
    },
    {
      "cell_type": "code",
      "metadata": {
        "id": "19y_j_X6KjK1"
      },
      "source": [
        "model_filepath = \"/content/drive/MyDrive/Programming/Colab Notebooks/Coding_Dojo/Twitter_Sentiment_Project/fastText_Models/8hr_retrained_all_data_best_params.bin\"\n",
        "\n",
        "# Save the model that has been retrained on all of the data.\n",
        "#all_data_retrained_8hr_best_params_model.save_model(model_filepath)\n",
        "\n",
        "# Next time we run this notebook, we can just load the model that has been retrain on all of the data, with the best hyperparameters.\n",
        "all_data_retrained_8hr_best_params_model = load_model(model_filepath)"
      ],
      "execution_count": null,
      "outputs": []
    },
    {
      "cell_type": "markdown",
      "metadata": {
        "id": "bGEyvwxFkqGc"
      },
      "source": [
        "# Load the previously unseen test data set (about 17k tweets).\n",
        "\n",
        "The next few cells make sure the test data is formatted how fastText needs it."
      ]
    },
    {
      "cell_type": "code",
      "metadata": {
        "colab": {
          "base_uri": "https://localhost:8080/",
          "height": 195
        },
        "id": "xhNwmudvP2oi",
        "outputId": "0b4982ce-ee9a-4f99-9ca1-c3af90f02fdd"
      },
      "source": [
        "filepath= \"/content/drive/MyDrive/Programming/Colab Notebooks/Coding_Dojo/Twitter_Sentiment_Project/train_test_data/test_tweets_clean.csv\"\n",
        "\n",
        "tweet_df = pd.read_csv(filepath)\n",
        "\n",
        "tweet_df.head()"
      ],
      "execution_count": null,
      "outputs": [
        {
          "output_type": "execute_result",
          "data": {
            "text/html": [
              "<div>\n",
              "<style scoped>\n",
              "    .dataframe tbody tr th:only-of-type {\n",
              "        vertical-align: middle;\n",
              "    }\n",
              "\n",
              "    .dataframe tbody tr th {\n",
              "        vertical-align: top;\n",
              "    }\n",
              "\n",
              "    .dataframe thead th {\n",
              "        text-align: right;\n",
              "    }\n",
              "</style>\n",
              "<table border=\"1\" class=\"dataframe\">\n",
              "  <thead>\n",
              "    <tr style=\"text-align: right;\">\n",
              "      <th></th>\n",
              "      <th>id</th>\n",
              "      <th>tweet</th>\n",
              "      <th>tweet_emoji_cleaned</th>\n",
              "      <th>Fully_Clean_Tweet_Tokenized</th>\n",
              "      <th>Clean_Tweet</th>\n",
              "    </tr>\n",
              "  </thead>\n",
              "  <tbody>\n",
              "    <tr>\n",
              "      <th>0</th>\n",
              "      <td>31963</td>\n",
              "      <td>#studiolife #aislife #requires #passion #dedic...</td>\n",
              "      <td>#studiolife #aislife #requires #passion #dedic...</td>\n",
              "      <td>['#studiolife', '#aislife', '#requires', '#pas...</td>\n",
              "      <td>#studiolife #aislife #requires #passion #dedic...</td>\n",
              "    </tr>\n",
              "    <tr>\n",
              "      <th>1</th>\n",
              "      <td>31964</td>\n",
              "      <td>@user #white #supremacists want everyone to s...</td>\n",
              "      <td>@user #white #supremacists want everyone to s...</td>\n",
              "      <td>['#white', '#supremacists', 'want', 'new', '#b...</td>\n",
              "      <td>#white #supremacists want new #birds #movie</td>\n",
              "    </tr>\n",
              "    <tr>\n",
              "      <th>2</th>\n",
              "      <td>31965</td>\n",
              "      <td>safe ways to heal your #acne!!    #altwaystohe...</td>\n",
              "      <td>safe ways to heal your #acne!!    #altwaystohe...</td>\n",
              "      <td>['safe', 'way', 'heal', 'pron', '#acne', '#alt...</td>\n",
              "      <td>safe way heal pron #acne #altwaystoheal #healt...</td>\n",
              "    </tr>\n",
              "    <tr>\n",
              "      <th>3</th>\n",
              "      <td>31966</td>\n",
              "      <td>is the hp and the cursed child book up for res...</td>\n",
              "      <td>is the hp and the cursed child book up for res...</td>\n",
              "      <td>['hp', 'curse', 'child', 'book', 'reservation'...</td>\n",
              "      <td>hp curse child book reservation yes happy love...</td>\n",
              "    </tr>\n",
              "    <tr>\n",
              "      <th>4</th>\n",
              "      <td>31967</td>\n",
              "      <td>3rd #bihday to my amazing, hilarious #nephew...</td>\n",
              "      <td>3rd #bihday to my amazing, hilarious #nephew...</td>\n",
              "      <td>['3rd', '#bihday', 'pron', 'amazing', 'hilario...</td>\n",
              "      <td>3rd #bihday pron amazing hilarious #nephew eli...</td>\n",
              "    </tr>\n",
              "  </tbody>\n",
              "</table>\n",
              "</div>"
            ],
            "text/plain": [
              "      id  ...                                        Clean_Tweet\n",
              "0  31963  ...  #studiolife #aislife #requires #passion #dedic...\n",
              "1  31964  ...        #white #supremacists want new #birds #movie\n",
              "2  31965  ...  safe way heal pron #acne #altwaystoheal #healt...\n",
              "3  31966  ...  hp curse child book reservation yes happy love...\n",
              "4  31967  ...  3rd #bihday pron amazing hilarious #nephew eli...\n",
              "\n",
              "[5 rows x 5 columns]"
            ]
          },
          "metadata": {
            "tags": []
          },
          "execution_count": 12
        }
      ]
    },
    {
      "cell_type": "code",
      "metadata": {
        "colab": {
          "base_uri": "https://localhost:8080/",
          "height": 195
        },
        "id": "Y5A1qCda07Lo",
        "outputId": "ad4fa609-ed6a-40ad-83b8-da14cdd1643a"
      },
      "source": [
        "fastText_df = tweet_df.loc[:, ['id', 'Clean_Tweet']].copy(deep=True)\n",
        "\n",
        "fastText_df.head()"
      ],
      "execution_count": null,
      "outputs": [
        {
          "output_type": "execute_result",
          "data": {
            "text/html": [
              "<div>\n",
              "<style scoped>\n",
              "    .dataframe tbody tr th:only-of-type {\n",
              "        vertical-align: middle;\n",
              "    }\n",
              "\n",
              "    .dataframe tbody tr th {\n",
              "        vertical-align: top;\n",
              "    }\n",
              "\n",
              "    .dataframe thead th {\n",
              "        text-align: right;\n",
              "    }\n",
              "</style>\n",
              "<table border=\"1\" class=\"dataframe\">\n",
              "  <thead>\n",
              "    <tr style=\"text-align: right;\">\n",
              "      <th></th>\n",
              "      <th>id</th>\n",
              "      <th>Clean_Tweet</th>\n",
              "    </tr>\n",
              "  </thead>\n",
              "  <tbody>\n",
              "    <tr>\n",
              "      <th>0</th>\n",
              "      <td>31963</td>\n",
              "      <td>#studiolife #aislife #requires #passion #dedic...</td>\n",
              "    </tr>\n",
              "    <tr>\n",
              "      <th>1</th>\n",
              "      <td>31964</td>\n",
              "      <td>#white #supremacists want new #birds #movie</td>\n",
              "    </tr>\n",
              "    <tr>\n",
              "      <th>2</th>\n",
              "      <td>31965</td>\n",
              "      <td>safe way heal pron #acne #altwaystoheal #healt...</td>\n",
              "    </tr>\n",
              "    <tr>\n",
              "      <th>3</th>\n",
              "      <td>31966</td>\n",
              "      <td>hp curse child book reservation yes happy love...</td>\n",
              "    </tr>\n",
              "    <tr>\n",
              "      <th>4</th>\n",
              "      <td>31967</td>\n",
              "      <td>3rd #bihday pron amazing hilarious #nephew eli...</td>\n",
              "    </tr>\n",
              "  </tbody>\n",
              "</table>\n",
              "</div>"
            ],
            "text/plain": [
              "      id                                        Clean_Tweet\n",
              "0  31963  #studiolife #aislife #requires #passion #dedic...\n",
              "1  31964        #white #supremacists want new #birds #movie\n",
              "2  31965  safe way heal pron #acne #altwaystoheal #healt...\n",
              "3  31966  hp curse child book reservation yes happy love...\n",
              "4  31967  3rd #bihday pron amazing hilarious #nephew eli..."
            ]
          },
          "metadata": {
            "tags": []
          },
          "execution_count": 13
        }
      ]
    },
    {
      "cell_type": "code",
      "metadata": {
        "id": "7YiTAAsh_WKi"
      },
      "source": [
        "# Prepare a set of index values and tweets. In order to submit the predictions to Analytics Vidhya for grading, we \n",
        "# will need need to reconstruct two columns. 1) The set of index values, 2) The set of predictions. \n",
        "# Therefore it is necessary for us to keep track of which index goes with which fastText prediction.\n",
        "\n",
        "index_list = list(fastText_df['id'].to_numpy())\n",
        "\n",
        "tweet_list = list(fastText_df['Clean_Tweet'].to_numpy())\n",
        "\n",
        "tweet_data = [(index_list[i], tweet_list[i]) for i in range(0, len(index_list))]"
      ],
      "execution_count": null,
      "outputs": []
    },
    {
      "cell_type": "code",
      "metadata": {
        "id": "f6_VpS1z_WNI"
      },
      "source": [
        "# Dictionary to hold the predictions made by fastText.\n",
        "predicted_classes = {}\n",
        "predicted_classes['id'] = []\n",
        "predicted_classes['label'] = []\n",
        "predicted_classes['tweet_text'] = []\n",
        "\n",
        "# Iterate over each sample in the test data, and have the fastText model make a prediction for it.\n",
        "for test_tweet in tweet_data: \n",
        "  tweet_id, tweet_text = test_tweet\n",
        "\n",
        "  prediction = all_data_retrained_8hr_best_params_model.predict(tweet_text)\n",
        "\n",
        "  predicted_classes['id'].append(tweet_id)\n",
        "  predicted_classes['label'].append(prediction)\n",
        "  predicted_classes['tweet_text'].append(tweet_text)"
      ],
      "execution_count": null,
      "outputs": []
    },
    {
      "cell_type": "code",
      "metadata": {
        "colab": {
          "base_uri": "https://localhost:8080/",
          "height": 195
        },
        "id": "IuRB8phqDTRV",
        "outputId": "7c35fdfa-6051-45e5-9c4a-dd64da60a130"
      },
      "source": [
        "# Reformat the predictions made by fastText for submission to analytics vidhya\n",
        "prediction_df = pd.DataFrame(predicted_classes)\n",
        "\n",
        "clean_label = []\n",
        "for index in list(prediction_df.index): \n",
        "  label_cleaned = prediction_df['label'].to_numpy()[index][0][0].replace(\"__label__\", \"\")[0]\n",
        "  clean_label.append(label_cleaned)\n",
        "\n",
        "prediction_df['clean_label'] = clean_label\n",
        "\n",
        "prediction_df.drop(columns=['label', 'tweet_text'], inplace=True)\n",
        "\n",
        "prediction_df.rename(columns={'clean_label' : 'label'}, inplace=True)"
      ],
      "execution_count": null,
      "outputs": [
        {
          "output_type": "execute_result",
          "data": {
            "text/html": [
              "<div>\n",
              "<style scoped>\n",
              "    .dataframe tbody tr th:only-of-type {\n",
              "        vertical-align: middle;\n",
              "    }\n",
              "\n",
              "    .dataframe tbody tr th {\n",
              "        vertical-align: top;\n",
              "    }\n",
              "\n",
              "    .dataframe thead th {\n",
              "        text-align: right;\n",
              "    }\n",
              "</style>\n",
              "<table border=\"1\" class=\"dataframe\">\n",
              "  <thead>\n",
              "    <tr style=\"text-align: right;\">\n",
              "      <th></th>\n",
              "      <th>id</th>\n",
              "      <th>label</th>\n",
              "      <th>tweet_text</th>\n",
              "    </tr>\n",
              "  </thead>\n",
              "  <tbody>\n",
              "    <tr>\n",
              "      <th>0</th>\n",
              "      <td>31963</td>\n",
              "      <td>((__label__0school,), [0.023810237646102905])</td>\n",
              "      <td>#studiolife #aislife #requires #passion #dedic...</td>\n",
              "    </tr>\n",
              "    <tr>\n",
              "      <th>1</th>\n",
              "      <td>31964</td>\n",
              "      <td>((__label__0work,), [0.05442137271165848])</td>\n",
              "      <td>#white #supremacists want new #birds #movie</td>\n",
              "    </tr>\n",
              "    <tr>\n",
              "      <th>2</th>\n",
              "      <td>31965</td>\n",
              "      <td>((__label__0safe,), [0.8979480266571045])</td>\n",
              "      <td>safe way heal pron #acne #altwaystoheal #healt...</td>\n",
              "    </tr>\n",
              "    <tr>\n",
              "      <th>3</th>\n",
              "      <td>31966</td>\n",
              "      <td>((__label__0yes,), [0.053191687911748886])</td>\n",
              "      <td>hp curse child book reservation yes happy love...</td>\n",
              "    </tr>\n",
              "    <tr>\n",
              "      <th>4</th>\n",
              "      <td>31967</td>\n",
              "      <td>((__label__0thank,), [0.2912096679210663])</td>\n",
              "      <td>3rd #bihday pron amazing hilarious #nephew eli...</td>\n",
              "    </tr>\n",
              "  </tbody>\n",
              "</table>\n",
              "</div>"
            ],
            "text/plain": [
              "      id  ...                                         tweet_text\n",
              "0  31963  ...  #studiolife #aislife #requires #passion #dedic...\n",
              "1  31964  ...        #white #supremacists want new #birds #movie\n",
              "2  31965  ...  safe way heal pron #acne #altwaystoheal #healt...\n",
              "3  31966  ...  hp curse child book reservation yes happy love...\n",
              "4  31967  ...  3rd #bihday pron amazing hilarious #nephew eli...\n",
              "\n",
              "[5 rows x 3 columns]"
            ]
          },
          "metadata": {
            "tags": []
          },
          "execution_count": 16
        }
      ]
    },
    {
      "cell_type": "code",
      "metadata": {
        "colab": {
          "base_uri": "https://localhost:8080/",
          "height": 195
        },
        "id": "L9BIBZJyFpiS",
        "outputId": "d9b3c581-4c24-42a8-e21f-f64b0dd5879c"
      },
      "source": [
        "# This is what we  will submit to analytics vidhya.\n",
        "prediction_df.head()"
      ],
      "execution_count": null,
      "outputs": [
        {
          "output_type": "execute_result",
          "data": {
            "text/html": [
              "<div>\n",
              "<style scoped>\n",
              "    .dataframe tbody tr th:only-of-type {\n",
              "        vertical-align: middle;\n",
              "    }\n",
              "\n",
              "    .dataframe tbody tr th {\n",
              "        vertical-align: top;\n",
              "    }\n",
              "\n",
              "    .dataframe thead th {\n",
              "        text-align: right;\n",
              "    }\n",
              "</style>\n",
              "<table border=\"1\" class=\"dataframe\">\n",
              "  <thead>\n",
              "    <tr style=\"text-align: right;\">\n",
              "      <th></th>\n",
              "      <th>id</th>\n",
              "      <th>label</th>\n",
              "    </tr>\n",
              "  </thead>\n",
              "  <tbody>\n",
              "    <tr>\n",
              "      <th>0</th>\n",
              "      <td>31963</td>\n",
              "      <td>0</td>\n",
              "    </tr>\n",
              "    <tr>\n",
              "      <th>1</th>\n",
              "      <td>31964</td>\n",
              "      <td>0</td>\n",
              "    </tr>\n",
              "    <tr>\n",
              "      <th>2</th>\n",
              "      <td>31965</td>\n",
              "      <td>0</td>\n",
              "    </tr>\n",
              "    <tr>\n",
              "      <th>3</th>\n",
              "      <td>31966</td>\n",
              "      <td>0</td>\n",
              "    </tr>\n",
              "    <tr>\n",
              "      <th>4</th>\n",
              "      <td>31967</td>\n",
              "      <td>0</td>\n",
              "    </tr>\n",
              "  </tbody>\n",
              "</table>\n",
              "</div>"
            ],
            "text/plain": [
              "      id label\n",
              "0  31963     0\n",
              "1  31964     0\n",
              "2  31965     0\n",
              "3  31966     0\n",
              "4  31967     0"
            ]
          },
          "metadata": {
            "tags": []
          },
          "execution_count": 25
        }
      ]
    },
    {
      "cell_type": "code",
      "metadata": {
        "id": "iEn1-CPoFpk3"
      },
      "source": [
        "# Save off the predictions file for submission\n",
        "prediction_df.to_csv(path_or_buf=\"/content/drive/MyDrive/Programming/Colab Notebooks/Coding_Dojo/Twitter_Sentiment_Project/test_data_prediction_files/Anderson_Submit_8hr_all_data_ft.csv\", index=False)"
      ],
      "execution_count": null,
      "outputs": []
    }
  ]
}
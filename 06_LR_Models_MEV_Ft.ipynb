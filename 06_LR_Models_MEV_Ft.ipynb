{
  "nbformat": 4,
  "nbformat_minor": 0,
  "metadata": {
    "colab": {
      "name": "06_LR_Models_MEV_Ft.ipynb",
      "provenance": [],
      "collapsed_sections": [],
      "authorship_tag": "ABX9TyOC4NekK4KUqbT2v9oGxRTj",
      "include_colab_link": true
    },
    "kernelspec": {
      "name": "python3",
      "display_name": "Python 3"
    },
    "language_info": {
      "name": "python"
    }
  },
  "cells": [
    {
      "cell_type": "markdown",
      "metadata": {
        "id": "view-in-github",
        "colab_type": "text"
      },
      "source": [
        "<a href=\"https://colab.research.google.com/github/BradenAnderson/Twitter-Sentiment-Analysis/blob/main/06_LR_Models_MEV_Ft.ipynb\" target=\"_parent\"><img src=\"https://colab.research.google.com/assets/colab-badge.svg\" alt=\"Open In Colab\"/></a>"
      ]
    },
    {
      "cell_type": "markdown",
      "metadata": {
        "id": "39ZhYiUhGiAR"
      },
      "source": [
        "### This notebook contains the code to perform hyperparameter tuning on Logistic Regression Models that utilize fastText mean embedded word vectors as the input. \n",
        "\n",
        "### Displaying and reviewing the search results is done in the 06_fastText_MEV_Modeling_Analysis notebook."
      ]
    },
    {
      "cell_type": "code",
      "metadata": {
        "colab": {
          "base_uri": "https://localhost:8080/"
        },
        "id": "ZVUfaOVuqGDg",
        "outputId": "1d6b148d-5f38-4151-ed90-190696fee8d3"
      },
      "source": [
        "from google.colab import drive\n",
        "drive.mount('/content/drive')"
      ],
      "execution_count": null,
      "outputs": [
        {
          "output_type": "stream",
          "text": [
            "Mounted at /content/drive\n"
          ],
          "name": "stdout"
        }
      ]
    },
    {
      "cell_type": "code",
      "metadata": {
        "id": "dPgkEtDtq0LF"
      },
      "source": [
        "! git clone https://github.com/facebookresearch/fastText.git"
      ],
      "execution_count": null,
      "outputs": []
    },
    {
      "cell_type": "code",
      "metadata": {
        "id": "1n-vk_wvq0kp"
      },
      "source": [
        "! pip install /content/fastText"
      ],
      "execution_count": null,
      "outputs": []
    },
    {
      "cell_type": "code",
      "metadata": {
        "id": "XwLhYN3yqPCQ"
      },
      "source": [
        "\n",
        "import dill as pickle\n",
        "\n",
        "import pandas as pd\n",
        "import numpy as np\n",
        "import seaborn as sns\n",
        "import matplotlib.pyplot as plt\n",
        "\n",
        "import fasttext\n",
        "from fasttext.FastText import load_model\n",
        "\n",
        "from collections import defaultdict\n",
        "\n",
        "from sklearn.model_selection import cross_val_score, GridSearchCV, RandomizedSearchCV, train_test_split, cross_validate, cross_val_predict\n",
        "from sklearn.naive_bayes import MultinomialNB\n",
        "from sklearn.pipeline import Pipeline\n",
        "from sklearn.feature_extraction.text import TfidfTransformer, TfidfVectorizer, CountVectorizer\n",
        "from sklearn.compose import ColumnTransformer\n",
        "from sklearn.linear_model import LogisticRegression\n",
        "from sklearn.metrics import precision_score, recall_score, accuracy_score, SCORERS, multilabel_confusion_matrix, make_scorer, roc_curve, roc_auc_score, f1_score\n",
        "\n",
        "\n",
        "pd.set_option('display.max_rows', 1000)"
      ],
      "execution_count": null,
      "outputs": []
    },
    {
      "cell_type": "code",
      "metadata": {
        "colab": {
          "base_uri": "https://localhost:8080/",
          "height": 202
        },
        "id": "dV9MnCy2rGZ6",
        "outputId": "a42bbe4b-d31b-43be-97f4-3ab584d77207"
      },
      "source": [
        "filepath= \"/content/drive/MyDrive/Programming/Colab Notebooks/Coding_Dojo/Twitter_Sentiment_Project/intermediate_output_files/vader_full_preprocessing_model_droppedlt3.csv\"\n",
        "\n",
        "tweet_df = pd.read_csv(filepath)\n",
        "\n",
        "tweet_df.head()"
      ],
      "execution_count": null,
      "outputs": [
        {
          "output_type": "execute_result",
          "data": {
            "text/html": [
              "<div>\n",
              "<style scoped>\n",
              "    .dataframe tbody tr th:only-of-type {\n",
              "        vertical-align: middle;\n",
              "    }\n",
              "\n",
              "    .dataframe tbody tr th {\n",
              "        vertical-align: top;\n",
              "    }\n",
              "\n",
              "    .dataframe thead th {\n",
              "        text-align: right;\n",
              "    }\n",
              "</style>\n",
              "<table border=\"1\" class=\"dataframe\">\n",
              "  <thead>\n",
              "    <tr style=\"text-align: right;\">\n",
              "      <th></th>\n",
              "      <th>label</th>\n",
              "      <th>tweet</th>\n",
              "      <th>Clean_Tweet</th>\n",
              "      <th>Sentence_Level_pos_Score</th>\n",
              "      <th>Sentence_Level_neg_Score</th>\n",
              "      <th>Sentence_Level_neu_Score</th>\n",
              "      <th>Sentence_Level_compound_Score</th>\n",
              "    </tr>\n",
              "  </thead>\n",
              "  <tbody>\n",
              "    <tr>\n",
              "      <th>0</th>\n",
              "      <td>0</td>\n",
              "      <td>@user when a father is dysfunctional and is s...</td>\n",
              "      <td>father dysfunctional significant selfish pron ...</td>\n",
              "      <td>0.000</td>\n",
              "      <td>0.211</td>\n",
              "      <td>0.789</td>\n",
              "      <td>0.58520</td>\n",
              "    </tr>\n",
              "    <tr>\n",
              "      <th>1</th>\n",
              "      <td>0</td>\n",
              "      <td>@user @user thanks for #lyft credit i can't us...</td>\n",
              "      <td>thank #lyft credit use cause pron offer wheelc...</td>\n",
              "      <td>0.157</td>\n",
              "      <td>0.000</td>\n",
              "      <td>0.843</td>\n",
              "      <td>1.33525</td>\n",
              "    </tr>\n",
              "    <tr>\n",
              "      <th>2</th>\n",
              "      <td>0</td>\n",
              "      <td>bihday your majesty</td>\n",
              "      <td>bihday pron majesty</td>\n",
              "      <td>0.000</td>\n",
              "      <td>0.000</td>\n",
              "      <td>1.000</td>\n",
              "      <td>1.00000</td>\n",
              "    </tr>\n",
              "    <tr>\n",
              "      <th>3</th>\n",
              "      <td>0</td>\n",
              "      <td>#model   i love u take with u all the time in ...</td>\n",
              "      <td>#model love pron pron time pron happy love hap...</td>\n",
              "      <td>0.194</td>\n",
              "      <td>0.000</td>\n",
              "      <td>0.806</td>\n",
              "      <td>1.36245</td>\n",
              "    </tr>\n",
              "    <tr>\n",
              "      <th>4</th>\n",
              "      <td>0</td>\n",
              "      <td>factsguide: society now    #motivation</td>\n",
              "      <td>factsguide society #motivation</td>\n",
              "      <td>0.000</td>\n",
              "      <td>0.000</td>\n",
              "      <td>1.000</td>\n",
              "      <td>1.00000</td>\n",
              "    </tr>\n",
              "  </tbody>\n",
              "</table>\n",
              "</div>"
            ],
            "text/plain": [
              "   label  ... Sentence_Level_compound_Score\n",
              "0      0  ...                       0.58520\n",
              "1      0  ...                       1.33525\n",
              "2      0  ...                       1.00000\n",
              "3      0  ...                       1.36245\n",
              "4      0  ...                       1.00000\n",
              "\n",
              "[5 rows x 7 columns]"
            ]
          },
          "metadata": {
            "tags": []
          },
          "execution_count": 5
        }
      ]
    },
    {
      "cell_type": "code",
      "metadata": {
        "id": "7w2GDkX9J5ZW"
      },
      "source": [
        "tweet_df['Clean_Word_Lists'] = tweet_df['Clean_Tweet'].apply(lambda tweet : tweet.split(' '))"
      ],
      "execution_count": null,
      "outputs": []
    },
    {
      "cell_type": "markdown",
      "metadata": {
        "id": "-54QrDoYrO7W"
      },
      "source": [
        "# Set up fastText"
      ]
    },
    {
      "cell_type": "code",
      "metadata": {
        "id": "GI5an199rW5N"
      },
      "source": [
        "# Read in a csv file that contains a string with every unqiue word found in the set of tweets.\n",
        "unique_df = pd.read_csv(\"/content/drive/MyDrive/Programming/Colab Notebooks/Coding_Dojo/Twitter_Sentiment_Project/intermediate_output_files/unique_words.csv\")\n",
        "\n",
        "# Grab the long string of unqiue words from the dataframe.\n",
        "unique_words = unique_df.loc[unique_df.index == 0, 'Unique_Words'].to_numpy()[0]\n",
        "\n",
        "# Split the string at white spaces to get a list of unique words.\n",
        "unique_words = unique_words.split(\" \")"
      ],
      "execution_count": null,
      "outputs": []
    },
    {
      "cell_type": "code",
      "metadata": {
        "id": "nak2lMQ0raZT"
      },
      "source": [
        "# Path to where the fastText word vector model is saved.\n",
        "word_vector_model_filepath = r\"/content/drive/MyDrive/Programming/Colab Notebooks/Coding_Dojo/Twitter_Sentiment_Project/fastText_Models/wv_model_dlt3.bin\"\n",
        "\n",
        "# Load the model of word vector representations that was trained in the previous section.\n",
        "ft_model = load_model(word_vector_model_filepath)\n",
        "\n",
        "# Create a dictionary mapping each unique word to its fastText word vector.\n",
        "word_vector_dictionary = {word : ft_model.get_word_vector(word) for word in unique_words}"
      ],
      "execution_count": null,
      "outputs": []
    },
    {
      "cell_type": "code",
      "metadata": {
        "id": "13S4YCq-vbqK"
      },
      "source": [
        "class MeanEmbeddingVectorizer(object):\n",
        "\n",
        "    def __init__(self, ft_wv):\n",
        "        self.ft_wv = ft_wv\n",
        "        if len(ft_wv)>0:\n",
        "            self.dim = ft_wv[next(iter(unique_words))].shape[0] \n",
        "        else:\n",
        "            self.dim=0\n",
        "            \n",
        "    def fit(self, X, y):\n",
        "        return self \n",
        "\n",
        "    def transform(self, X):\n",
        "\n",
        "      mean_of_word_vectors = []\n",
        "\n",
        "      # For each tweet in our training set (that we have converted to a list of clean word tokens).\n",
        "      for clean_tweet_token_list in X: \n",
        "        \n",
        "        # Create a list to hold the FastText word vectors for each word in the tweet.\n",
        "        this_tweet_word_vectors = []\n",
        "\n",
        "        # For every word in a particular tweet.\n",
        "        for word in clean_tweet_token_list:\n",
        "          \n",
        "          # Initialize the word vector for this word to be a 100-dimension vector of all zeros.\n",
        "          this_words_vector = np.zeros(self.dim)\n",
        "          \n",
        "          # If we have a valid word vector for this word, use the valid word vector instead of the zero vector.\n",
        "          if word in self.ft_wv: \n",
        "            this_words_vector = self.ft_wv[word]\n",
        "          \n",
        "          # Append this word vector to the list of word vectors that make up this tweet.\n",
        "          this_tweet_word_vectors.append(this_words_vector)\n",
        "\n",
        "        # Create a single 100 dimensional vector that is the (element wise) mean of all word vectors that make up this tweet.\n",
        "        mean_vector = np.mean(this_tweet_word_vectors, axis=0)\n",
        "\n",
        "        # Append this mean vector to the list of mean vectors (this list will have one mean vector for every tweet in our dataset).\n",
        "        mean_of_word_vectors.append(mean_vector)\n",
        "      \n",
        "      return np.array(mean_of_word_vectors)"
      ],
      "execution_count": null,
      "outputs": []
    },
    {
      "cell_type": "markdown",
      "metadata": {
        "id": "qC0Q8INbrc6T"
      },
      "source": [
        "# Perform GridSearch"
      ]
    },
    {
      "cell_type": "code",
      "metadata": {
        "id": "KusMktvcrvPo"
      },
      "source": [
        "'''\n",
        "X = tweet_df.loc[:, ['Clean_Word_Lists']].to_numpy().ravel()\n",
        "y = tweet_df.loc[:, 'label'].to_numpy().ravel()\n",
        "\n",
        "LogisticRegression = LogisticRegression()\n",
        "\n",
        "model_pipeline = Pipeline([(\"ft_word_vectorizer\", MeanEmbeddingVectorizer(word_vector_dictionary)),\n",
        "                           ('Logistic_Reg', LogisticRegression)])\n",
        "\n",
        "parameter_grid = [{'Logistic_Reg__penalty': ['l1', 'l2'], \n",
        "                   'Logistic_Reg__C' : np.logspace(start=-2,stop=2, base=10, num=25), \n",
        "                   'Logistic_Reg__solver': ['liblinear'],\n",
        "                   'Logistic_Reg__fit_intercept' : [True, False],\n",
        "                   'Logistic_Reg__class_weight' : [None, {0 : 1, 1: 5}]}]\n",
        "\n",
        "score_types = {'f1_score' : make_scorer(f1_score), 'sensitivity' : make_scorer(recall_score), 'specificity' : make_scorer(recall_score, pos_label=0),\n",
        "               'AUC_ROC' : 'roc_auc', 'ROC_AUC_Score' : make_scorer(roc_auc_score), 'accuracy' : 'accuracy', 'precision' : make_scorer(precision_score)}\n",
        "\n",
        "gs = GridSearchCV(estimator=model_pipeline, param_grid=parameter_grid, scoring=score_types, refit='f1_score', n_jobs=-1)\n",
        "\n",
        "gs.fit(X,y)\n",
        "\n",
        "PATH = \"/content/drive/MyDrive/Programming/Colab Notebooks/Coding_Dojo/Twitter_Sentiment_Project/pickle_gridsearch_ft/gs_lr_mev_ft.pkl\"\n",
        "\n",
        "with open(PATH, 'wb') as file:\n",
        "  pickle.dump(gs, file)\n",
        "'''"
      ],
      "execution_count": null,
      "outputs": []
    },
    {
      "cell_type": "code",
      "metadata": {
        "id": "XwwgvDDcVri6"
      },
      "source": [
        "from imblearn.pipeline import Pipeline\n",
        "from imblearn.over_sampling import RandomOverSampler"
      ],
      "execution_count": null,
      "outputs": []
    },
    {
      "cell_type": "code",
      "metadata": {
        "id": "4oROJjVxUQaK"
      },
      "source": [
        "'''\n",
        "X = tweet_df.loc[:, ['Clean_Word_Lists']].to_numpy().ravel()\n",
        "y = tweet_df.loc[:, 'label'].to_numpy().ravel()\n",
        "\n",
        "LogisticRegression = LogisticRegression()\n",
        "\n",
        "random_os = RandomOverSampler()\n",
        "\n",
        "model_pipeline = Pipeline([(\"ft_word_vectorizer\", MeanEmbeddingVectorizer(word_vector_dictionary)),\n",
        "                           ('overSampler', random_os),\n",
        "                           ('Logistic_Reg', LogisticRegression)])\n",
        "\n",
        "parameter_grid = [{'Logistic_Reg__penalty': ['l1', 'l2'], \n",
        "                   'Logistic_Reg__C' : np.logspace(start=-1,stop=1, base=10, num=10), \n",
        "                   'Logistic_Reg__solver': ['liblinear'],\n",
        "                   'Logistic_Reg__fit_intercept' : [True, False],\n",
        "                   'Logistic_Reg__class_weight' : [{0 : 1, 1: 8}, {0 : 1, 1: 5}],\n",
        "                   'overSampler__sampling_strategy' : ['auto', 0.6]}]\n",
        "\n",
        "score_types = {'f1_score' : make_scorer(f1_score), 'sensitivity' : make_scorer(recall_score), 'specificity' : make_scorer(recall_score, pos_label=0),\n",
        "               'AUC_ROC' : 'roc_auc', 'ROC_AUC_Score' : make_scorer(roc_auc_score), 'accuracy' : 'accuracy', 'precision' : make_scorer(precision_score)}\n",
        "\n",
        "gs = GridSearchCV(estimator=model_pipeline, param_grid=parameter_grid, scoring=score_types, refit='f1_score', n_jobs=-1)\n",
        "\n",
        "gs.fit(X,y)\n",
        "\n",
        "PATH = \"/content/drive/MyDrive/Programming/Colab Notebooks/Coding_Dojo/Twitter_Sentiment_Project/pickle_gridsearch_ft/gs_lr_ros_mev_ft.pkl\"\n",
        "\n",
        "with open(PATH, 'wb') as file:\n",
        "  pickle.dump(gs, file)\n",
        "'''"
      ],
      "execution_count": null,
      "outputs": []
    },
    {
      "cell_type": "code",
      "metadata": {
        "id": "G90t4ZPG6Ou9"
      },
      "source": [
        "'''\n",
        "X = tweet_df.loc[:, ['Clean_Word_Lists']].to_numpy().ravel()\n",
        "y = tweet_df.loc[:, 'label'].to_numpy().ravel()\n",
        "\n",
        "LogisticRegression = LogisticRegression()\n",
        "\n",
        "random_os = RandomOverSampler()\n",
        "\n",
        "model_pipeline = Pipeline([(\"ft_word_vectorizer\", MeanEmbeddingVectorizer(word_vector_dictionary)),\n",
        "                           ('overSampler', random_os),\n",
        "                           ('Logistic_Reg', LogisticRegression)])\n",
        "\n",
        "parameter_grid = [{'Logistic_Reg__penalty': ['l1'], \n",
        "                   'Logistic_Reg__C' : [0.5, 1.0, 2.0, 5.0, 10.0], \n",
        "                   'Logistic_Reg__solver': ['liblinear'],\n",
        "                   'Logistic_Reg__fit_intercept' : [True, False],\n",
        "                   'Logistic_Reg__class_weight' : [None, {0 : 1, 1: 2}],\n",
        "                   'overSampler__sampling_strategy' : ['auto', 0.3, 0.4]}]\n",
        "\n",
        "score_types = {'f1_score' : make_scorer(f1_score), 'sensitivity' : make_scorer(recall_score), 'specificity' : make_scorer(recall_score, pos_label=0),\n",
        "               'AUC_ROC' : 'roc_auc', 'ROC_AUC_Score' : make_scorer(roc_auc_score), 'accuracy' : 'accuracy', 'precision' : make_scorer(precision_score)}\n",
        "\n",
        "gs = GridSearchCV(estimator=model_pipeline, param_grid=parameter_grid, scoring=score_types, refit='f1_score', n_jobs=-1)\n",
        "\n",
        "gs.fit(X,y)\n",
        "\n",
        "PATH = \"/content/drive/MyDrive/Programming/Colab Notebooks/Coding_Dojo/Twitter_Sentiment_Project/pickle_gridsearch_ft/gs_lr_ros2_mev_ft.pkl\"\n",
        "\n",
        "with open(PATH, 'wb') as file:\n",
        "  pickle.dump(gs, file)\n",
        "'''"
      ],
      "execution_count": null,
      "outputs": []
    }
  ]
}